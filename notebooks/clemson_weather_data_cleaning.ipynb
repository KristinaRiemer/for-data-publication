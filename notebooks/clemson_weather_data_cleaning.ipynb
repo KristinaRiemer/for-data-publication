{
 "cells": [
  {
   "cell_type": "markdown",
   "metadata": {},
   "source": [
    "#### Precipitation and Air Temperature data were downloaded from\n",
    "- NASA's [Daymet](https://daymet.ornl.gov/) using coordinates from the Clemson University Pee Dee Research Center\n",
    "- latitude: 34.289\t\n",
    "- longitude: -79.737\n",
    "\n",
    "#### Wind and humidity data were downloaded from\n",
    "- Climate [Engine](https://clim-engine.appspot.com/climateEngine) using coordinates from the Clemson Pee Dee Research and Education Center\n",
    "- latitude: 34.289\t\n",
    "- longitude: -79.737\n",
    "\n",
    "#### These are more precise environmental data which will be used in combination with the trait [data](https://github.com/MagicMilly/for-data-publication/tree/main/data/processed) from Brenton et al. 2016 at the Clemson University Pee Dee Research Center"
   ]
  },
  {
   "cell_type": "code",
   "execution_count": null,
   "metadata": {},
   "outputs": [],
   "source": [
    "import datetime\n",
    "import numpy as np\n",
    "import pandas as pd"
   ]
  },
  {
   "cell_type": "code",
   "execution_count": null,
   "metadata": {},
   "outputs": [],
   "source": [
    "# returns vpd in KPa\n",
    "\n",
    "def calculate_vpd_kpa(temp_avg_c, rh_avg):\n",
    "    es = (6.11 * np.exp((2500000/461) * (1/273 - 1/(273 + temp_avg_c))))\n",
    "    vpd = (((100 - rh_avg)/1000) * es)\n",
    "    return vpd"
   ]
  },
  {
   "cell_type": "markdown",
   "metadata": {},
   "source": [
    "### A. Daymet Download"
   ]
  },
  {
   "cell_type": "code",
   "execution_count": null,
   "metadata": {},
   "outputs": [],
   "source": [
    "daymet_0 = pd.read_csv('data/raw/clemson/clemson_raw_daily_weather.csv')\n",
    "# print(daymet_0.shape)\n",
    "# daymet_0.head()"
   ]
  },
  {
   "cell_type": "markdown",
   "metadata": {},
   "source": [
    "### Columns from Daymet Download\n",
    "- year\n",
    "- day of year\n",
    "- dayl - daylength, seconds per day\n",
    "- precipitation in mm\n",
    "- srad - shortwave radiation (can be used with dayl to calculate total daily radiation)\n",
    "- swe - snow water equivalent\n",
    "- air temperature max in C\n",
    "- air temperature min in C\n",
    "- vp - daily average partial pressure of water vapor, in Pascals"
   ]
  },
  {
   "cell_type": "markdown",
   "metadata": {},
   "source": [
    "#### Add Dates"
   ]
  },
  {
   "cell_type": "code",
   "execution_count": null,
   "metadata": {},
   "outputs": [],
   "source": [
    "date_range_2014 = pd.date_range(start='2014-01-01', end='2014-12-31')"
   ]
  },
  {
   "cell_type": "code",
   "execution_count": null,
   "metadata": {},
   "outputs": [],
   "source": [
    "daymet_1 = daymet_0.copy()\n",
    "daymet_1['date'] = date_range_2014\n",
    "# print(daymet_1.shape)\n",
    "# daymet_1.tail()"
   ]
  },
  {
   "cell_type": "markdown",
   "metadata": {},
   "source": [
    "#### Convert vapor pressure to Kilopascals\n",
    "will be calculating vapor pressure deficit in KPa"
   ]
  },
  {
   "cell_type": "code",
   "execution_count": null,
   "metadata": {},
   "outputs": [],
   "source": [
    "daymet_2 = daymet_1.copy()\n",
    "daymet_2['vapor_pressure_kpa'] = daymet_2['vp (Pa)'] / 1000\n",
    "# daymet_2.sample(n=5)"
   ]
  },
  {
   "cell_type": "code",
   "execution_count": null,
   "metadata": {},
   "outputs": [],
   "source": [
    "# drop original vapor pressure column\n",
    "\n",
    "daymet_3 = daymet_2.drop(labels='vp (Pa)', axis=1)\n",
    "# daymet_3.tail(3)"
   ]
  },
  {
   "cell_type": "markdown",
   "metadata": {},
   "source": [
    "#### Rename Columns"
   ]
  },
  {
   "cell_type": "code",
   "execution_count": null,
   "metadata": {},
   "outputs": [],
   "source": [
    "daymet_4 = daymet_3.rename({'yday': 'day_of_year', 'dayl (s)': 'day_length_seconds', 'prcp (mm/day)': 'precip_mm',\n",
    "                            'srad (W/m^2)': 'shortwave_rad', 'swe (kg/m^2)': 'snow_water_equivalent', \n",
    "                            'tmax (deg c)': 'temp_max_c', 'tmin (deg c)': 'temp_min_c', \n",
    "                            'vp (Pa)': 'vapor_pressure_kpa'}, axis=1)\n",
    "\n",
    "# print(daymet_4.shape)\n",
    "# daymet_4.tail()"
   ]
  },
  {
   "cell_type": "markdown",
   "metadata": {},
   "source": [
    "### B. Climate Engine Download\n",
    "- rh_n - dataset with relative humidity values\n",
    "- wind_n - dataset with wind values\n",
    "    - Assumption that these are average wind speed values per day"
   ]
  },
  {
   "cell_type": "code",
   "execution_count": null,
   "metadata": {},
   "outputs": [],
   "source": [
    "rh_0 = pd.read_csv('data/raw/clemson/clemson_rh_2014.csv')\n",
    "# print(rh_0.shape)\n",
    "# rh_0.head()"
   ]
  },
  {
   "cell_type": "markdown",
   "metadata": {},
   "source": [
    "#### Rename Columns"
   ]
  },
  {
   "cell_type": "code",
   "execution_count": null,
   "metadata": {},
   "outputs": [],
   "source": [
    "rh_1 = rh_0.rename({'(%) Min Rel. Humidity (gridMET), -79.7370E,34.2890N ,2014-01-01 to 2014-12-31': 'min_rh',\n",
    "                   '(%) Max Rel. Humidity (gridMET), -79.7370E,34.2890N ,2014-01-01 to 2014-12-31': 'max_rh'}, axis=1)\n",
    "\n",
    "# print(rh_1.shape)\n",
    "# rh_1.head()"
   ]
  },
  {
   "cell_type": "markdown",
   "metadata": {},
   "source": [
    "#### Change `DateTime` values to datetime objects"
   ]
  },
  {
   "cell_type": "code",
   "execution_count": null,
   "metadata": {},
   "outputs": [],
   "source": [
    "date_range = pd.to_datetime(rh_1.DateTime)\n",
    "# date_range"
   ]
  },
  {
   "cell_type": "code",
   "execution_count": null,
   "metadata": {},
   "outputs": [],
   "source": [
    "rh_2 = rh_1.copy()\n",
    "rh_2['date'] = date_range\n",
    "# print(rh_2.dtypes)\n",
    "# rh_2.head()"
   ]
  },
  {
   "cell_type": "markdown",
   "metadata": {},
   "source": [
    "#### Drop DateTime Column"
   ]
  },
  {
   "cell_type": "code",
   "execution_count": null,
   "metadata": {},
   "outputs": [],
   "source": [
    "rh_3 = rh_2.drop('DateTime', axis=1)\n",
    "# print(rh_3.shape)\n",
    "# rh_3.tail()"
   ]
  },
  {
   "cell_type": "code",
   "execution_count": null,
   "metadata": {},
   "outputs": [],
   "source": [
    "wind_0 = pd.read_csv('data/raw/clemson/climate_engine_wind_speed_2014.csv')\n",
    "# print(wind_0.shape)\n",
    "# wind_0.head()"
   ]
  },
  {
   "cell_type": "markdown",
   "metadata": {},
   "source": [
    "#### Rename Column"
   ]
  },
  {
   "cell_type": "code",
   "execution_count": null,
   "metadata": {},
   "outputs": [],
   "source": [
    "wind_1 = wind_0.rename({'(m/s) Wind Speed (gridMET) at -79.7370E,34.2890N, 2014-01-01 to 2014-12-31': 'wind_speed_ms'},\n",
    "                      axis=1)\n",
    "\n",
    "# print(wind_1.shape)\n",
    "# wind_1.head()"
   ]
  },
  {
   "cell_type": "markdown",
   "metadata": {},
   "source": [
    "#### New Column with datetime object"
   ]
  },
  {
   "cell_type": "code",
   "execution_count": null,
   "metadata": {},
   "outputs": [],
   "source": [
    "date_range = pd.to_datetime(wind_1.DateTime)\n",
    "\n",
    "wind_2 = wind_1.copy()\n",
    "wind_2['date'] = date_range\n",
    "\n",
    "# print(wind_2.shape)\n",
    "# wind_2.tail()"
   ]
  },
  {
   "cell_type": "markdown",
   "metadata": {},
   "source": [
    "#### Drop DateTime Column"
   ]
  },
  {
   "cell_type": "code",
   "execution_count": null,
   "metadata": {},
   "outputs": [],
   "source": [
    "wind_3 = wind_2.drop('DateTime', axis=1)\n",
    "# wind_3.head()"
   ]
  },
  {
   "cell_type": "markdown",
   "metadata": {},
   "source": [
    "#### Merge DataFrames"
   ]
  },
  {
   "cell_type": "code",
   "execution_count": null,
   "metadata": {},
   "outputs": [],
   "source": [
    "temp_rh_wind_0 = daymet_5.merge(rh_3, how='outer', right_on='date', left_on='date').merge(wind_3, how='outer',\n",
    "                                                                                    left_on='date', right_on='date')\n",
    "\n",
    "# print(temp_rh_wind_0.shape)\n",
    "# temp_rh_wind_0.head()"
   ]
  },
  {
   "cell_type": "markdown",
   "metadata": {},
   "source": [
    "#### Slice for season dates\n",
    "- Planting: 2014-05-06, Day of Year 126\n",
    "- Latest date in Clemson trait data: 2014-10-15, Day of Year 288"
   ]
  },
  {
   "cell_type": "code",
   "execution_count": null,
   "metadata": {},
   "outputs": [],
   "source": [
    "temp_rh_wind_1 = temp_rh_wind_0.loc[(temp_rh_wind_0['day_of_year'] >= 126) & (temp_rh_wind_0['day_of_year'] <= 288)]\n",
    "# print(temp_rh_wind_1.shape)\n",
    "# temp_rh_wind_1.head(3)"
   ]
  },
  {
   "cell_type": "markdown",
   "metadata": {},
   "source": [
    "#### Add cumulative precipitation column"
   ]
  },
  {
   "cell_type": "code",
   "execution_count": null,
   "metadata": {},
   "outputs": [],
   "source": [
    "temp_rh_wind_2 = temp_rh_wind_1.copy()\n",
    "\n",
    "temp_rh_wind_2['cum_precip_mm'] = np.cumsum(temp_rh_wind_2.precip_mm)\n",
    "# print(temp_rh_wind_2.shape)\n",
    "# temp_rh_wind_2.tail(10)"
   ]
  },
  {
   "cell_type": "markdown",
   "metadata": {},
   "source": [
    "#### Add growing degree days"
   ]
  },
  {
   "cell_type": "code",
   "execution_count": null,
   "metadata": {},
   "outputs": [],
   "source": [
    "temp_rh_wind_3 = temp_rh_wind_2.copy()\n",
    "temp_rh_wind_3['daily_gdd'] = (((temp_rh_wind_3['temp_max_c'] + temp_rh_wind_3['temp_min_c'])) / 2) - 10\n",
    "# print(temp_rh_wind_3.shape)\n",
    "# temp_rh_wind_3.head()"
   ]
  },
  {
   "cell_type": "code",
   "execution_count": null,
   "metadata": {},
   "outputs": [],
   "source": [
    "temp_rh_wind_4 = temp_rh_wind_3.copy()\n",
    "temp_rh_wind_4['gdd'] = np.rint(np.cumsum(temp_rh_wind_4['daily_gdd']))\n",
    "# temp_rh_wind_4.tail()"
   ]
  },
  {
   "cell_type": "code",
   "execution_count": null,
   "metadata": {},
   "outputs": [],
   "source": [
    "# check that no daily gdd values are negative\n",
    "\n",
    "# temp_rh_wind_4.loc[temp_rh_wind_4['daily_gdd'] < 0]"
   ]
  },
  {
   "cell_type": "code",
   "execution_count": null,
   "metadata": {},
   "outputs": [],
   "source": [
    "# drop daily_gdd column\n",
    "\n",
    "temp_rh_wind_5 = temp_rh_wind_4.drop('daily_gdd', axis=1)"
   ]
  },
  {
   "cell_type": "markdown",
   "metadata": {},
   "source": [
    "#### Add average temperature column"
   ]
  },
  {
   "cell_type": "code",
   "execution_count": null,
   "metadata": {},
   "outputs": [],
   "source": [
    "temp_rh_wind_6 = temp_rh_wind_5.copy()\n",
    "temp_rh_wind_6['temp_avg_c'] = temp_rh_wind_6[['temp_max_c', 'temp_min_c']].mean(axis=1)\n",
    "# print(temp_rh_wind_6.shape)\n",
    "# temp_rh_wind_6.head(3)"
   ]
  },
  {
   "cell_type": "markdown",
   "metadata": {},
   "source": [
    "#### Add average relative humidity"
   ]
  },
  {
   "cell_type": "code",
   "execution_count": null,
   "metadata": {},
   "outputs": [],
   "source": [
    "temp_rh_wind_7 = temp_rh_wind_6.copy()\n",
    "temp_rh_wind_7['avg_rh'] = temp_rh_wind_7[['min_rh', 'max_rh']].mean(axis=1)\n",
    "# print(temp_rh_wind_7.shape)\n",
    "# temp_rh_wind_7.sample(n=3)"
   ]
  },
  {
   "cell_type": "markdown",
   "metadata": {},
   "source": [
    "#### Add vapor pressure deficit in Kilopascals"
   ]
  },
  {
   "cell_type": "code",
   "execution_count": null,
   "metadata": {},
   "outputs": [],
   "source": [
    "temp_rh_wind_8 = temp_rh_wind_7.copy()\n",
    "temp_rh_wind_8['vpd_kpa'] = calculate_vpd_kpa(temp_rh_wind_8['temp_avg_c'], temp_rh_wind_8['avg_rh'])\n",
    "# print(temp_rh_wind_8.shape)\n",
    "# temp_rh_wind_8.sample(n=5)"
   ]
  },
  {
   "cell_type": "markdown",
   "metadata": {},
   "source": [
    "#### Round all floats to two decimal points"
   ]
  },
  {
   "cell_type": "code",
   "execution_count": null,
   "metadata": {},
   "outputs": [],
   "source": [
    "cols_to_round = ['day_length_seconds', 'shortwave_rad', 'temp_max_c', 'temp_min_c', 'vapor_pressure_kpa', 'min_rh', 'max_rh',\n",
    "                'wind_speed_ms', 'temp_avg_c', 'avg_rh', 'vpd_kpa']\n",
    "\n",
    "temp_rh_wind_9 = temp_rh_wind_8.copy()\n",
    "temp_rh_wind_9[cols_to_round] = temp_rh_wind_9[cols_to_round].round(2)\n",
    "print(temp_rh_wind_9.shape)\n",
    "temp_rh_wind_9.tail(3)"
   ]
  },
  {
   "cell_type": "markdown",
   "metadata": {},
   "source": [
    "#### Write to CSV"
   ]
  },
  {
   "cell_type": "code",
   "execution_count": null,
   "metadata": {},
   "outputs": [],
   "source": [
    "temp_rh_wind_9.to_csv('data/weather/clemson_weather.csv', index=False)"
   ]
  }
 ],
 "metadata": {
  "kernelspec": {
   "display_name": "Python 3",
   "language": "python",
   "name": "python3"
  },
  "language_info": {
   "codemirror_mode": {
    "name": "ipython",
    "version": 3
   },
   "file_extension": ".py",
   "mimetype": "text/x-python",
   "name": "python",
   "nbconvert_exporter": "python",
   "pygments_lexer": "ipython3",
   "version": "3.7.5"
  }
 },
 "nbformat": 4,
 "nbformat_minor": 2
}
