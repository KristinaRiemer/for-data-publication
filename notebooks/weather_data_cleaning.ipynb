{
 "cells": [
  {
   "cell_type": "markdown",
   "metadata": {},
   "source": [
    "### Code used to clean and reformat weather data from\n",
    "- MAC Season 4\n",
    "- MAC Season 6\n",
    "- KSU (Ashland Bottoms)\n",
    "- Clemson (Pee Dee Research and Education Center, Florence)"
   ]
  },
  {
   "cell_type": "markdown",
   "metadata": {},
   "source": [
    "### Weather parameters found in all raw data\n",
    "- Date \n",
    "- Day of year\n",
    "- Temperature minimum\n",
    "- Temperature maximum\n",
    "- Temperature mean\n",
    "- Accumulated growing degree days (gdd)\n",
    "- Relative humidity minimum\n",
    "- Relative humidity maximum\n",
    "- Relative humidity mean\n",
    "- Vapor pressure deficit\n",
    "- Precipitation\n",
    "- Cumulative precipitation\n",
    "- First water deficit treatment (for MAC season 4)\n",
    "- Second water deficit treatment (for MAC season 4)"
   ]
  },
  {
   "cell_type": "markdown",
   "metadata": {},
   "source": [
    "### Season dates\n",
    "- MAC Season 4\n",
    "    - Planting: 2017-04-20, Day 110\n",
    "    - Last Day of Harvest: 2017-09-16, Day 259 \n",
    "- MAC Season 6\n",
    "    - Planting: 2018-04-25, Day 115\n",
    "    - Harvest: 2018-08-01, Day 213\n",
    "- KSU\n",
    "    - Planting: 2016-06-17, Day 169\n",
    "    - Harvest: 2016-10-21, Day 295\n",
    "- Clemson\n",
    "    - Planting: 2014-05-06, Day 126\n",
    "    - Latest date in Clemson trait data: 2014-10-15, Day 288"
   ]
  },
  {
   "cell_type": "markdown",
   "metadata": {},
   "source": [
    "#### See README for information on units, accessing raw data, and downloading processed data"
   ]
  },
  {
   "cell_type": "code",
   "execution_count": null,
   "metadata": {},
   "outputs": [],
   "source": [
    "import datetime\n",
    "import numpy as np\n",
    "import pandas as pd"
   ]
  },
  {
   "cell_type": "markdown",
   "metadata": {},
   "source": [
    "##### Functions"
   ]
  },
  {
   "cell_type": "code",
   "execution_count": null,
   "metadata": {},
   "outputs": [],
   "source": [
    "def calculate_vpd(temp_avg, rh_avg):\n",
    "    es = (6.11 * np.exp((2500000/461) * (1/273 - 1/(273 + temp_avg))))\n",
    "    vpd = (((100 - rh_avg)/1000) * es)\n",
    "    return vpd"
   ]
  },
  {
   "cell_type": "code",
   "execution_count": null,
   "metadata": {},
   "outputs": [],
   "source": [
    "def save_to_csv(list_of_dfs, list_of_output_filenames):\n",
    "    for i,j in zip(list_of_dfs, list_of_output_filenames):\n",
    "        i.to_csv(j, index=False)"
   ]
  },
  {
   "cell_type": "markdown",
   "metadata": {},
   "source": [
    "##### URLs for downloading raw weather data"
   ]
  },
  {
   "cell_type": "code",
   "execution_count": null,
   "metadata": {},
   "outputs": [],
   "source": [
    "s4_url = 'https://de.cyverse.org/dl/d/7D6C8FD6-EF77-437C-89E6-412EA8C3EEC6/mac_weather_station_raw_daily_2017.csv'\n",
    "s6_url = 'https://de.cyverse.org/dl/d/233C21D5-1306-4028-9CF9-FF4AF0EAC405/mac_weather_station_raw_daily_2018.csv'\n",
    "ksu_hourly_url = 'https://de.cyverse.org/dl/d/D80C07D7-5F68-4C86-B15A-9BAAF472D3A4/ksu_hourly_weather.csv'\n",
    "ksu_daily_url = 'https://de.cyverse.org/dl/d/64805E3B-0460-4AA1-8D8A-2D7246E05B35/ashland_bottoms_daily_weather_2016.csv' \n",
    "clemson_temps_url = 'https://de.cyverse.org/dl/d/19836AB5-9223-4CBA-B56E-46272CACF5A3/clemson_temps_daily.csv'\n",
    "clemson_rh_url = 'https://de.cyverse.org/dl/d/353F5386-4D88-45A9-A4F6-6FC66C64C7E8/clemson_rh_daily.csv'"
   ]
  },
  {
   "cell_type": "markdown",
   "metadata": {},
   "source": [
    "### A. MAC Season 4"
   ]
  },
  {
   "cell_type": "code",
   "execution_count": null,
   "metadata": {},
   "outputs": [],
   "source": [
    "s4_0 = pd.read_csv(s4_url)\n",
    "print(s4_0.shape)\n",
    "s4_0.head(3)"
   ]
  },
  {
   "cell_type": "markdown",
   "metadata": {},
   "source": [
    "##### Slice for season dates only and add date column"
   ]
  },
  {
   "cell_type": "code",
   "execution_count": null,
   "metadata": {},
   "outputs": [],
   "source": [
    "s4_1 = s4_0.loc[(s4_0.day_of_year >= 110) & (s4_0.day_of_year <= 259)]\n",
    "season_4_date_range = pd.date_range(start='2017-04-20', end='2017-09-16')"
   ]
  },
  {
   "cell_type": "code",
   "execution_count": null,
   "metadata": {},
   "outputs": [],
   "source": [
    "s4_2 = s4_1.copy()\n",
    "s4_2['date'] = season_4_date_range\n",
    "# s4_2.tail(3)"
   ]
  },
  {
   "cell_type": "markdown",
   "metadata": {},
   "source": [
    "##### Add growing degree days"
   ]
  },
  {
   "cell_type": "code",
   "execution_count": null,
   "metadata": {},
   "outputs": [],
   "source": [
    "s4_3 = s4_2.copy()\n",
    "s4_3['daily_gdd'] = (((s4_3['air_temp_max'] + s4_3['air_temp_min'])) / 2) - 10"
   ]
  },
  {
   "cell_type": "code",
   "execution_count": null,
   "metadata": {},
   "outputs": [],
   "source": [
    "s4_4 = s4_3.copy()\n",
    "s4_4['gdd'] = np.rint(np.cumsum(s4_4['daily_gdd']))"
   ]
  },
  {
   "cell_type": "code",
   "execution_count": null,
   "metadata": {},
   "outputs": [],
   "source": [
    "s4_5 = s4_4.drop(labels='daily_gdd', axis=1)\n",
    "# print(s4_5.shape)\n",
    "# s4_5.head()"
   ]
  },
  {
   "cell_type": "code",
   "execution_count": null,
   "metadata": {},
   "outputs": [],
   "source": [
    "s4_6 = s4_5.copy()\n",
    "s4_6['cum_precip'] = np.cumsum(s4_6.precip_total)"
   ]
  },
  {
   "cell_type": "markdown",
   "metadata": {},
   "source": [
    "##### Add columns for water-deficit stress treatment \n",
    "- First water-deficit stress treatment: 2017-08-01 through 2017-08-14\n",
    "- Second water-deficit stress treatment: 2017-08-15 through 2017-08-30"
   ]
  },
  {
   "cell_type": "code",
   "execution_count": null,
   "metadata": {},
   "outputs": [],
   "source": [
    "first_treatment_dates = pd.date_range(start='2017-08-01', end='2017-08-14')\n",
    "second_treatment_dates = pd.date_range(start='2017-08-15', end='2017-08-30')\n",
    "season_dates = s4_6.date.values"
   ]
  },
  {
   "cell_type": "code",
   "execution_count": null,
   "metadata": {},
   "outputs": [],
   "source": [
    "first_treatment_col = []\n",
    "\n",
    "for d in season_dates:\n",
    "    if d in first_treatment_dates:\n",
    "        first_treatment_col.append(True)    \n",
    "    else: \n",
    "        first_treatment_col.append(False)"
   ]
  },
  {
   "cell_type": "code",
   "execution_count": null,
   "metadata": {},
   "outputs": [],
   "source": [
    "second_treatment_col = []\n",
    "\n",
    "for d in season_dates:\n",
    "    if d in second_treatment_dates:\n",
    "        second_treatment_col.append(True)\n",
    "    else:\n",
    "        second_treatment_col.append(False)"
   ]
  },
  {
   "cell_type": "code",
   "execution_count": null,
   "metadata": {},
   "outputs": [],
   "source": [
    "s4_7 = s4_6.copy()\n",
    "\n",
    "s4_7['first_water_deficit_treatment'] = first_treatment_col\n",
    "s4_7['second_water_deficit_treatment'] = second_treatment_col"
   ]
  },
  {
   "cell_type": "markdown",
   "metadata": {},
   "source": [
    "##### Drop columns"
   ]
  },
  {
   "cell_type": "code",
   "execution_count": null,
   "metadata": {},
   "outputs": [],
   "source": [
    "# s4_7.columns"
   ]
  },
  {
   "cell_type": "code",
   "execution_count": null,
   "metadata": {},
   "outputs": [],
   "source": [
    "s4_cols_to_keep = ['day_of_year', 'air_temp_max', 'air_temp_min', 'air_temp_mean', 'rh_max', 'rh_min', 'rh_mean', 'vpd_mean', \n",
    "                'precip_total', 'date', 'gdd', 'cum_precip', 'first_water_deficit_treatment', \n",
    "                'second_water_deficit_treatment']\n",
    "\n",
    "s4_8 = pd.DataFrame(data=s4_7, columns=s4_cols_to_keep)\n",
    "# print(s4_8.shape)\n",
    "# s4_8.head()"
   ]
  },
  {
   "cell_type": "markdown",
   "metadata": {},
   "source": [
    "##### Rename some columns"
   ]
  },
  {
   "cell_type": "code",
   "execution_count": null,
   "metadata": {},
   "outputs": [],
   "source": [
    "s4_new_col_names = ['day_of_year', 'temp_max', 'temp_min', 'temp_mean', 'rh_max', 'rh_min', 'rh_mean', 'vpd_mean',\n",
    "                   'precip', 'date', 'gdd', 'precip_cumulative', 'first_water_deficit_treatment', 'second_water_deficit_treatment']\n",
    "\n",
    "s4_9 = s4_8.copy()\n",
    "s4_9.columns = s4_new_col_names\n",
    "# print(s4_9.shape)\n",
    "# s4_9.tail()"
   ]
  },
  {
   "cell_type": "markdown",
   "metadata": {},
   "source": [
    "##### Reorder columns"
   ]
  },
  {
   "cell_type": "code",
   "execution_count": null,
   "metadata": {},
   "outputs": [],
   "source": [
    "s4_new_col_order = ['date', 'day_of_year', 'temp_min', 'temp_max', 'temp_mean', 'gdd', 'rh_min', 'rh_max', 'rh_mean', \n",
    "                    'vpd_mean', 'precip', 'precip_cumulative', 'first_water_deficit_treatment', 'second_water_deficit_treatment']"
   ]
  },
  {
   "cell_type": "code",
   "execution_count": null,
   "metadata": {},
   "outputs": [],
   "source": [
    "s4_10 = s4_9[s4_new_col_order]\n",
    "# print(s4_10.shape)\n",
    "# s4_10.tail(3)"
   ]
  },
  {
   "cell_type": "markdown",
   "metadata": {},
   "source": [
    "##### Round numeric columns to two decimal points, except for `gdd` which was already rounded to the nearest integer"
   ]
  },
  {
   "cell_type": "code",
   "execution_count": null,
   "metadata": {},
   "outputs": [],
   "source": [
    "s4_cols_to_round = ['temp_min', 'temp_max', 'temp_mean', 'rh_min', 'rh_max', 'rh_mean', 'vpd_mean', 'precip',\n",
    "                    'precip_cumulative']\n",
    "\n",
    "s4_11 = s4_10.copy()\n",
    "s4_11[s4_cols_to_round] = s4_10[s4_cols_to_round].round(2)\n",
    "print(s4_11.shape)\n",
    "s4_11.head(3)"
   ]
  },
  {
   "cell_type": "markdown",
   "metadata": {},
   "source": [
    "### B. MAC Season 6"
   ]
  },
  {
   "cell_type": "code",
   "execution_count": null,
   "metadata": {},
   "outputs": [],
   "source": [
    "s6_0 = pd.read_csv(s6_url)\n",
    "print(s6_0.shape)\n",
    "s6_0.head(3)"
   ]
  },
  {
   "cell_type": "markdown",
   "metadata": {},
   "source": [
    "##### Slice for season dates only and add date column"
   ]
  },
  {
   "cell_type": "code",
   "execution_count": null,
   "metadata": {},
   "outputs": [],
   "source": [
    "s6_1 = s6_0.loc[(s6_0.day_of_year >= 115) & (s6_0.day_of_year <= 213)]\n",
    "season_6_date_range = pd.date_range(start='2018-04-25', end='2018-08-01')"
   ]
  },
  {
   "cell_type": "code",
   "execution_count": null,
   "metadata": {},
   "outputs": [],
   "source": [
    "s6_2 = s6_1.copy()\n",
    "s6_2['date'] = season_6_date_range\n",
    "# s6_2.tail(3)"
   ]
  },
  {
   "cell_type": "markdown",
   "metadata": {},
   "source": [
    "##### Add growing degree days"
   ]
  },
  {
   "cell_type": "code",
   "execution_count": null,
   "metadata": {},
   "outputs": [],
   "source": [
    "s6_3 = s6_2.copy()\n",
    "s6_3['daily_gdd'] = (((s6_3['air_temp_max'] + s6_3['air_temp_min'])) / 2) - 10"
   ]
  },
  {
   "cell_type": "code",
   "execution_count": null,
   "metadata": {},
   "outputs": [],
   "source": [
    "s6_4 = s6_3.copy()\n",
    "s6_4['gdd'] = np.rint(np.cumsum(s6_4['daily_gdd']))"
   ]
  },
  {
   "cell_type": "code",
   "execution_count": null,
   "metadata": {},
   "outputs": [],
   "source": [
    "s6_5 = s6_4.drop(labels='daily_gdd', axis=1)\n",
    "# print(s6_5.shape)\n",
    "# s6_5.head()"
   ]
  },
  {
   "cell_type": "code",
   "execution_count": null,
   "metadata": {},
   "outputs": [],
   "source": [
    "s6_6 = s6_5.copy()\n",
    "s6_6['cum_precip'] = np.cumsum(s6_6.precip_total)"
   ]
  },
  {
   "cell_type": "markdown",
   "metadata": {},
   "source": [
    "##### Add first and second water deficit treatment columns\n",
    "- All values will be `False`"
   ]
  },
  {
   "cell_type": "code",
   "execution_count": null,
   "metadata": {},
   "outputs": [],
   "source": [
    "s6_7 = s6_6.copy()\n",
    "s6_7['first_water_deficit_treatment'] = False\n",
    "s6_7['second_water_deficit_treatment'] = False\n",
    "# s6_7.head()"
   ]
  },
  {
   "cell_type": "markdown",
   "metadata": {},
   "source": [
    "##### Drop some columns"
   ]
  },
  {
   "cell_type": "code",
   "execution_count": null,
   "metadata": {},
   "outputs": [],
   "source": [
    "s6_cols_to_keep = ['day_of_year', 'air_temp_max', 'air_temp_min', 'air_temp_mean', 'rh_max', 'rh_min', 'rh_mean', 'vpd_mean', \n",
    "                   'precip_total', 'date', 'gdd', 'cum_precip', 'first_water_deficit_treatment', \n",
    "                   'second_water_deficit_treatment']\n",
    "s6_8 = pd.DataFrame(data=s6_7, columns=s6_cols_to_keep)\n",
    "# print(s6_8.shape)\n",
    "# s6_8.head()"
   ]
  },
  {
   "cell_type": "markdown",
   "metadata": {},
   "source": [
    "##### Rename columns"
   ]
  },
  {
   "cell_type": "code",
   "execution_count": null,
   "metadata": {},
   "outputs": [],
   "source": [
    "s6_new_col_names = ['day_of_year', 'temp_max', 'temp_min', 'temp_mean', 'rh_max', 'rh_min', 'rh_mean', 'vpd_mean',\n",
    "                   'precip', 'date', 'gdd', 'precip_cumulative', 'first_water_deficit_treatment', 'second_water_deficit_treatment']\n",
    "\n",
    "s6_9 = s6_8.copy()\n",
    "s6_9.columns = s6_new_col_names\n",
    "# print(s6_9.shape)\n",
    "# s6_9.tail()"
   ]
  },
  {
   "cell_type": "markdown",
   "metadata": {},
   "source": [
    "##### Reorder columns"
   ]
  },
  {
   "cell_type": "code",
   "execution_count": null,
   "metadata": {},
   "outputs": [],
   "source": [
    "s6_new_col_order = ['date', 'day_of_year', 'temp_min', 'temp_max', 'temp_mean', 'gdd', 'rh_min', 'rh_max', 'rh_mean', \n",
    "                    'vpd_mean', 'precip', 'precip_cumulative', 'first_water_deficit_treatment', 'second_water_deficit_treatment']"
   ]
  },
  {
   "cell_type": "code",
   "execution_count": null,
   "metadata": {},
   "outputs": [],
   "source": [
    "s6_10 = s6_9[s6_new_col_order]\n",
    "# print(s6_10.shape)\n",
    "# s6_10.tail(3)"
   ]
  },
  {
   "cell_type": "markdown",
   "metadata": {},
   "source": [
    "##### Round numeric columns to two decimal points, except for `gdd` which was already rounded to the nearest integer"
   ]
  },
  {
   "cell_type": "code",
   "execution_count": null,
   "metadata": {},
   "outputs": [],
   "source": [
    "s6_cols_to_round = ['temp_min', 'temp_max', 'temp_mean', 'rh_min', 'rh_max', 'rh_mean', 'vpd_mean', 'precip',\n",
    "                    'precip_cumulative']\n",
    "\n",
    "s6_11 = s6_10.copy()\n",
    "s6_11[s6_cols_to_round] = s6_10[s6_cols_to_round].round(2)\n",
    "print(s6_11.shape)\n",
    "s6_11.head(3)"
   ]
  },
  {
   "cell_type": "markdown",
   "metadata": {},
   "source": [
    "### C. KSU Hourly\n",
    "- to calculate daily vapor pressure deficit mean values"
   ]
  },
  {
   "cell_type": "code",
   "execution_count": null,
   "metadata": {},
   "outputs": [],
   "source": [
    "kh_0 = pd.read_csv(ksu_hourly_url)\n",
    "print(kh_0.shape)\n",
    "kh_0.head(3)"
   ]
  },
  {
   "cell_type": "code",
   "execution_count": null,
   "metadata": {},
   "outputs": [],
   "source": [
    "kh_1 = kh_0.iloc[2:]\n",
    "# kh_1.head(3)"
   ]
  },
  {
   "cell_type": "code",
   "execution_count": null,
   "metadata": {},
   "outputs": [],
   "source": [
    "kh_2 = kh_1.copy()\n",
    "kh_2['AirTemperature'] = pd.to_numeric(kh_2['AirTemperature'], errors='coerce')"
   ]
  },
  {
   "cell_type": "code",
   "execution_count": null,
   "metadata": {},
   "outputs": [],
   "source": [
    "kh_3 = kh_2.copy()\n",
    "kh_3['RelativeHumidity'] = pd.to_numeric(kh_3['RelativeHumidity'], errors='coerce')\n",
    "# print(kh_3.shape)\n",
    "# print(kh_3.dtypes)\n",
    "# kh_3.head()"
   ]
  },
  {
   "cell_type": "code",
   "execution_count": null,
   "metadata": {},
   "outputs": [],
   "source": [
    "kh_4 = kh_3.copy()\n",
    "kh_4['vpd_mean'] = calculate_vpd(kh_4['AirTemperature'], kh_4['RelativeHumidity'])\n",
    "# print(kh_4.shape)\n",
    "# kh_4.head()"
   ]
  },
  {
   "cell_type": "code",
   "execution_count": null,
   "metadata": {},
   "outputs": [],
   "source": [
    "# kh_4.isnull().sum()"
   ]
  },
  {
   "cell_type": "code",
   "execution_count": null,
   "metadata": {},
   "outputs": [],
   "source": [
    "kh_5 = kh_4.dropna(how='any', axis=0)\n",
    "# print(kh_5.shape)"
   ]
  },
  {
   "cell_type": "code",
   "execution_count": null,
   "metadata": {},
   "outputs": [],
   "source": [
    "just_dates = []\n",
    "\n",
    "for timestamp in kh_5['Timestamp'].values:\n",
    "    date = timestamp[:10]\n",
    "    just_dates.append(date)"
   ]
  },
  {
   "cell_type": "code",
   "execution_count": null,
   "metadata": {},
   "outputs": [],
   "source": [
    "kh_6 = kh_5.copy()\n",
    "kh_6['date'] = just_dates\n",
    "\n",
    "# kh_6.tail()"
   ]
  },
  {
   "cell_type": "code",
   "execution_count": null,
   "metadata": {},
   "outputs": [],
   "source": [
    "kh_7 = kh_6.groupby(['date'], as_index=False)['vpd_mean'].mean()\n",
    "# print(kh_7.shape)\n",
    "# kh_7.head(3)"
   ]
  },
  {
   "cell_type": "markdown",
   "metadata": {},
   "source": [
    "##### Add minimum and maximum relative humidity"
   ]
  },
  {
   "cell_type": "code",
   "execution_count": null,
   "metadata": {},
   "outputs": [],
   "source": [
    "kh_8 = kh_6.groupby(['date']).agg(rh_min=('RelativeHumidity', 'min'), rh_max=('RelativeHumidity', 'max')).reset_index()\n",
    "# print(kh_8.shape)\n",
    "# kh_8.head(3)"
   ]
  },
  {
   "cell_type": "code",
   "execution_count": null,
   "metadata": {},
   "outputs": [],
   "source": [
    "kh_9 = kh_7.merge(kh_8, how='left', left_on='date', right_on='date')\n",
    "print(kh_9.shape)\n",
    "kh_9.tail(3)"
   ]
  },
  {
   "cell_type": "markdown",
   "metadata": {},
   "source": [
    "### D. Kansas Daily"
   ]
  },
  {
   "cell_type": "code",
   "execution_count": null,
   "metadata": {},
   "outputs": [],
   "source": [
    "ksu_0 = pd.read_csv(ksu_daily_url)\n",
    "print(ksu_0.shape)\n",
    "ksu_0.head(3)"
   ]
  },
  {
   "cell_type": "code",
   "execution_count": null,
   "metadata": {},
   "outputs": [],
   "source": [
    "ksu_1 = ksu_0.iloc[2:]"
   ]
  },
  {
   "cell_type": "code",
   "execution_count": null,
   "metadata": {},
   "outputs": [],
   "source": [
    "ksu_2 = ksu_1.merge(kh_9, how='left', left_on='Timestamp', right_on='date')\n",
    "# print(ksu_2.shape)\n",
    "# ksu_2.head()"
   ]
  },
  {
   "cell_type": "markdown",
   "metadata": {},
   "source": [
    "##### Convert temperature, relative humidity, and precipitation values to numeric"
   ]
  },
  {
   "cell_type": "code",
   "execution_count": null,
   "metadata": {},
   "outputs": [],
   "source": [
    "# ksu_2.dtypes"
   ]
  },
  {
   "cell_type": "code",
   "execution_count": null,
   "metadata": {},
   "outputs": [],
   "source": [
    "ksu_numeric_cols = ['AirTemperature', 'AirTemperature.1', 'RelativeHumidity', 'Precipitation']\n",
    "ksu_3 = ksu_2.copy()\n",
    "ksu_3[ksu_numeric_cols] = ksu_3[ksu_numeric_cols].apply(pd.to_numeric, errors='coerce')\n",
    "# print(ksu_3.shape)\n",
    "# print(ksu_3.dtypes)\n",
    "# ksu_3.tail()"
   ]
  },
  {
   "cell_type": "markdown",
   "metadata": {},
   "source": [
    "##### Add growing degree days"
   ]
  },
  {
   "cell_type": "code",
   "execution_count": null,
   "metadata": {},
   "outputs": [],
   "source": [
    "ksu_4 = ksu_3.copy()\n",
    "ksu_4['daily_gdd'] = (((ksu_4['AirTemperature'] + ksu_4['AirTemperature.1'])) / 2) - 10"
   ]
  },
  {
   "cell_type": "code",
   "execution_count": null,
   "metadata": {},
   "outputs": [],
   "source": [
    "ksu_5 = ksu_4.copy()\n",
    "ksu_5['gdd'] = np.rint(np.cumsum(ksu_5['daily_gdd']))"
   ]
  },
  {
   "cell_type": "code",
   "execution_count": null,
   "metadata": {},
   "outputs": [],
   "source": [
    "ksu_6 = ksu_5.drop(labels='daily_gdd', axis=1)\n",
    "# print(ksu_6.shape)\n",
    "# ksu_6.head()"
   ]
  },
  {
   "cell_type": "markdown",
   "metadata": {},
   "source": [
    "##### Add cumulative precipitation"
   ]
  },
  {
   "cell_type": "code",
   "execution_count": null,
   "metadata": {},
   "outputs": [],
   "source": [
    "ksu_7 = ksu_6.copy()\n",
    "ksu_7['precip_cumulative'] = np.cumsum(ksu_7['Precipitation'])"
   ]
  },
  {
   "cell_type": "markdown",
   "metadata": {},
   "source": [
    "##### Add first and second water deficit treatment columns\n",
    "- All values will be `False`"
   ]
  },
  {
   "cell_type": "code",
   "execution_count": null,
   "metadata": {},
   "outputs": [],
   "source": [
    "ksu_8 = ksu_7.copy()\n",
    "ksu_8['first_water_deficit_treatment'] = False\n",
    "ksu_8['second_water_deficit_treatment'] = False\n",
    "# ksu_8.head()"
   ]
  },
  {
   "cell_type": "markdown",
   "metadata": {},
   "source": [
    "##### Drop some columns"
   ]
  },
  {
   "cell_type": "code",
   "execution_count": null,
   "metadata": {},
   "outputs": [],
   "source": [
    "ksu_cols_to_keep = ['AirTemperature', 'AirTemperature.1', 'RelativeHumidity', 'Precipitation', 'date', 'vpd_mean', \n",
    "                    'rh_min', 'rh_max', 'gdd', 'precip_cumulative', 'first_water_deficit_treatment', \n",
    "                    'second_water_deficit_treatment']\n",
    "ksu_9 = pd.DataFrame(data=ksu_8, columns=ksu_cols_to_keep)\n",
    "# print(ksu_9.shape)\n",
    "# ksu_9.head()"
   ]
  },
  {
   "cell_type": "markdown",
   "metadata": {},
   "source": [
    "##### Add `day_of_year` and `temp_mean` columns"
   ]
  },
  {
   "cell_type": "code",
   "execution_count": null,
   "metadata": {},
   "outputs": [],
   "source": [
    "days_of_year = [i for i in range(169, 296)]"
   ]
  },
  {
   "cell_type": "code",
   "execution_count": null,
   "metadata": {},
   "outputs": [],
   "source": [
    "ksu_10 = ksu_9.copy()\n",
    "ksu_10['day_of_year'] = days_of_year"
   ]
  },
  {
   "cell_type": "code",
   "execution_count": null,
   "metadata": {},
   "outputs": [],
   "source": [
    "ksu_11 = ksu_10.copy()\n",
    "ksu_11['temp_mean'] = ksu_11[['AirTemperature', 'AirTemperature.1']].mean(axis=1)\n",
    "# print(ksu_11.shape)\n",
    "# ksu_11.head()"
   ]
  },
  {
   "cell_type": "markdown",
   "metadata": {},
   "source": [
    "##### Rename columns"
   ]
  },
  {
   "cell_type": "code",
   "execution_count": null,
   "metadata": {},
   "outputs": [],
   "source": [
    "ksu_new_col_names = ['temp_max', 'temp_min', 'rh_mean', 'precip', 'date', 'vpd_mean', 'rh_min', 'rh_max', 'gdd',\n",
    "                    'precip_cumulative', 'first_water_deficit_treatment', 'second_water_deficit_treatment',\n",
    "                    'day_of_year', 'temp_mean']\n",
    "ksu_12 = ksu_11.copy()\n",
    "ksu_12.columns = ksu_new_col_names\n",
    "# print(ksu_12.shape)\n",
    "# ksu_12.tail()"
   ]
  },
  {
   "cell_type": "markdown",
   "metadata": {},
   "source": [
    "##### Reorder columns"
   ]
  },
  {
   "cell_type": "code",
   "execution_count": null,
   "metadata": {},
   "outputs": [],
   "source": [
    "ksu_new_col_order = ['date', 'day_of_year', 'temp_min', 'temp_max', 'temp_mean', 'gdd', 'rh_min', 'rh_max', 'rh_mean', \n",
    "                    'vpd_mean', 'precip', 'precip_cumulative', 'first_water_deficit_treatment', 'second_water_deficit_treatment']"
   ]
  },
  {
   "cell_type": "code",
   "execution_count": null,
   "metadata": {},
   "outputs": [],
   "source": [
    "ksu_13 = ksu_12[ksu_new_col_order]"
   ]
  },
  {
   "cell_type": "markdown",
   "metadata": {},
   "source": [
    "##### Round numeric columns to two decimal points, except for `gdd` which was already rounded to the nearest integer"
   ]
  },
  {
   "cell_type": "code",
   "execution_count": null,
   "metadata": {},
   "outputs": [],
   "source": [
    "ksu_cols_to_round = ['temp_min', 'temp_max', 'temp_mean', 'rh_min', 'rh_max', 'rh_mean', 'vpd_mean', 'precip',\n",
    "                    'precip_cumulative']\n",
    "\n",
    "ksu_14 = ksu_13.copy()\n",
    "ksu_14[ksu_cols_to_round] = ksu_14[ksu_cols_to_round].round(2)\n",
    "print(ksu_14.shape)\n",
    "ksu_14.head(3)"
   ]
  },
  {
   "cell_type": "markdown",
   "metadata": {},
   "source": [
    "### E. Clemson Weather"
   ]
  },
  {
   "cell_type": "code",
   "execution_count": null,
   "metadata": {},
   "outputs": [],
   "source": [
    "clemson_0 = pd.read_csv(clemson_temps_url)\n",
    "print(clemson_0.shape)\n",
    "clemson_0.head(3)"
   ]
  },
  {
   "cell_type": "code",
   "execution_count": null,
   "metadata": {},
   "outputs": [],
   "source": [
    "clemson_1 = pd.read_csv(clemson_rh_url)\n",
    "print(clemson_1.shape)\n",
    "clemson_1.head(3)"
   ]
  },
  {
   "cell_type": "markdown",
   "metadata": {},
   "source": [
    "##### Add dates in string format to `clemson_0` dataframe"
   ]
  },
  {
   "cell_type": "code",
   "execution_count": null,
   "metadata": {},
   "outputs": [],
   "source": [
    "dates_2014 = clemson_1['DateTime'].values\n",
    "clemson_2 = clemson_0.copy()\n",
    "clemson_2['date'] = dates_2014\n",
    "# print(clemson_2.shape)\n",
    "# clemson_2.head(3)"
   ]
  },
  {
   "cell_type": "markdown",
   "metadata": {},
   "source": [
    "##### Merge two dataframes"
   ]
  },
  {
   "cell_type": "code",
   "execution_count": null,
   "metadata": {},
   "outputs": [],
   "source": [
    "clemson_3 = clemson_2.merge(clemson_1, how='left', left_on='date', right_on='DateTime')\n",
    "print(clemson_3.shape)\n",
    "clemson_3.tail(3)"
   ]
  },
  {
   "cell_type": "markdown",
   "metadata": {},
   "source": [
    "##### Slice for season dates"
   ]
  },
  {
   "cell_type": "code",
   "execution_count": null,
   "metadata": {},
   "outputs": [],
   "source": [
    "clemson_4 = clemson_3.loc[(clemson_3['yday'] >= 126) & (clemson_3['yday'] <= 288)]\n",
    "print(clemson_4.shape)"
   ]
  },
  {
   "cell_type": "markdown",
   "metadata": {},
   "source": [
    "##### Add growing degree days"
   ]
  },
  {
   "cell_type": "code",
   "execution_count": null,
   "metadata": {},
   "outputs": [],
   "source": [
    "clemson_5 = clemson_4.copy()\n",
    "clemson_5['daily_gdd'] = (((clemson_5['tmax (deg c)'] + clemson_5['tmin (deg c)'])) / 2) - 10"
   ]
  },
  {
   "cell_type": "code",
   "execution_count": null,
   "metadata": {},
   "outputs": [],
   "source": [
    "clemson_6 = clemson_5.copy()\n",
    "clemson_6['gdd'] = np.rint(np.cumsum(clemson_6['daily_gdd']))"
   ]
  },
  {
   "cell_type": "code",
   "execution_count": null,
   "metadata": {},
   "outputs": [],
   "source": [
    "clemson_7 = clemson_6.drop(labels='daily_gdd', axis=1)\n",
    "print(clemson_7.shape)\n",
    "# clemson_7.head()"
   ]
  },
  {
   "cell_type": "markdown",
   "metadata": {},
   "source": [
    "##### Add cumulative precipitation"
   ]
  },
  {
   "cell_type": "code",
   "execution_count": null,
   "metadata": {},
   "outputs": [],
   "source": [
    "clemson_8 = clemson_7.copy()\n",
    "clemson_8['precip_cumulative'] = np.cumsum(clemson_8['prcp (mm/day)'])"
   ]
  },
  {
   "cell_type": "markdown",
   "metadata": {},
   "source": [
    "##### Add first and second water deficit treatment columns\n",
    "- All values will be `False`"
   ]
  },
  {
   "cell_type": "code",
   "execution_count": null,
   "metadata": {},
   "outputs": [],
   "source": [
    "clemson_9 = clemson_8.copy()\n",
    "clemson_9['first_water_deficit_treatment'] = False\n",
    "clemson_9['second_water_deficit_treatment'] = False\n",
    "# clemson_9.head()"
   ]
  },
  {
   "cell_type": "markdown",
   "metadata": {},
   "source": [
    "##### Drop some columns"
   ]
  },
  {
   "cell_type": "code",
   "execution_count": null,
   "metadata": {},
   "outputs": [],
   "source": [
    "clemson_cols_to_keep = ['yday', 'prcp (mm/day)', 'tmax (deg c)', 'tmin (deg c)', 'date', '(%) Min Rel. Humidity (gridMET), -79.7370E,34.2890N ,2014-01-01 to 2014-12-31', \n",
    "                        '(%) Max Rel. Humidity (gridMET), -79.7370E,34.2890N ,2014-01-01 to 2014-12-31', 'gdd', \n",
    "                        'precip_cumulative', 'first_water_deficit_treatment', 'second_water_deficit_treatment']\n",
    "clemson_10 = pd.DataFrame(data=clemson_9, columns=clemson_cols_to_keep)\n",
    "# print(clemson_10.shape)\n",
    "# clemson_10.head()"
   ]
  },
  {
   "cell_type": "markdown",
   "metadata": {},
   "source": [
    "##### Change column names"
   ]
  },
  {
   "cell_type": "code",
   "execution_count": null,
   "metadata": {},
   "outputs": [],
   "source": [
    "clemson_11 = clemson_10.rename({'yday': 'day_of_year', 'prcp (mm/day)': 'precip', 'tmax (deg c)': 'temp_max', \n",
    "                                'tmin (deg c)': 'temp_min', '(%) Min Rel. Humidity (gridMET), -79.7370E,34.2890N ,2014-01-01 to 2014-12-31': 'rh_min', \n",
    "                                '(%) Max Rel. Humidity (gridMET), -79.7370E,34.2890N ,2014-01-01 to 2014-12-31': 'rh_max',}, axis=1)\n",
    "# clemson_11.tail(3)"
   ]
  },
  {
   "cell_type": "markdown",
   "metadata": {},
   "source": [
    "##### Columns to calculate and add\n",
    "- `temp_mean`\n",
    "- `rh_mean`\n",
    "- `vpd_mean`"
   ]
  },
  {
   "cell_type": "code",
   "execution_count": null,
   "metadata": {},
   "outputs": [],
   "source": [
    "clemson_12 = clemson_11.copy()\n",
    "clemson_12['temp_mean'] = clemson_12[['temp_max', 'temp_min']].mean(axis=1)\n",
    "# print(clemson_12.shape)\n",
    "# clemson_12.head()"
   ]
  },
  {
   "cell_type": "code",
   "execution_count": null,
   "metadata": {},
   "outputs": [],
   "source": [
    "clemson_13 = clemson_12.copy()\n",
    "clemson_13['rh_mean'] = clemson_13[['rh_max', 'rh_min']].mean(axis=1)\n",
    "# print(clemson_13.shape)\n",
    "# clemson_13.tail(3)"
   ]
  },
  {
   "cell_type": "code",
   "execution_count": null,
   "metadata": {},
   "outputs": [],
   "source": [
    "clemson_14 = clemson_13.copy()\n",
    "clemson_14['vpd_mean'] = calculate_vpd(clemson_14['temp_mean'], clemson_14['rh_mean'])"
   ]
  },
  {
   "cell_type": "markdown",
   "metadata": {},
   "source": [
    "##### Reorder columns"
   ]
  },
  {
   "cell_type": "code",
   "execution_count": null,
   "metadata": {},
   "outputs": [],
   "source": [
    "clemson_new_col_order = ['date', 'day_of_year', 'temp_min', 'temp_max', 'temp_mean', 'gdd', 'rh_min', 'rh_max', 'rh_mean', \n",
    "                         'vpd_mean', 'precip', 'precip_cumulative', 'first_water_deficit_treatment', 'second_water_deficit_treatment']"
   ]
  },
  {
   "cell_type": "code",
   "execution_count": null,
   "metadata": {},
   "outputs": [],
   "source": [
    "clemson_15 = clemson_14[clemson_new_col_order]"
   ]
  },
  {
   "cell_type": "markdown",
   "metadata": {},
   "source": [
    "##### Round numeric columns to two decimal points, except for `gdd` which was already rounded to the nearest integer"
   ]
  },
  {
   "cell_type": "code",
   "execution_count": null,
   "metadata": {},
   "outputs": [],
   "source": [
    "clemson_cols_to_round = ['temp_min', 'temp_max', 'temp_mean', 'rh_min', 'rh_max', 'rh_mean', 'vpd_mean', 'precip', \n",
    "                         'precip_cumulative']\n",
    "\n",
    "clemson_16 = clemson_15.copy()\n",
    "clemson_16[clemson_cols_to_round] = clemson_16[clemson_cols_to_round].round(2)\n",
    "print(clemson_16.shape)\n",
    "clemson_16.head(3)"
   ]
  },
  {
   "cell_type": "markdown",
   "metadata": {},
   "source": [
    "##### Save weather data to .csv format"
   ]
  },
  {
   "cell_type": "code",
   "execution_count": null,
   "metadata": {},
   "outputs": [],
   "source": [
    "list_of_dfs = [s4_11, s6_11, ksu_14, clemson_16]\n",
    "list_of_output_filenames = ['data/weather/mac_season_4_weather.csv', 'data/weather/mac_season_6_weather.csv',\n",
    "                           'data/weather/ksu_weather.csv', 'data/weather/clemson_weather.csv']\n",
    "\n",
    "save_to_csv(list_of_dfs, list_of_output_filenames)"
   ]
  }
 ],
 "metadata": {
  "kernelspec": {
   "display_name": "jupyter-data-cleaning",
   "language": "python",
   "name": "jupyter-data-cleaning"
  },
  "language_info": {
   "codemirror_mode": {
    "name": "ipython",
    "version": 3
   },
   "file_extension": ".py",
   "mimetype": "text/x-python",
   "name": "python",
   "nbconvert_exporter": "python",
   "pygments_lexer": "ipython3",
   "version": "3.8.2"
  }
 },
 "nbformat": 4,
 "nbformat_minor": 2
}
