{
 "cells": [
  {
   "cell_type": "markdown",
   "metadata": {},
   "source": [
    "#### Precipitation and Air Temperature data were downloaded from\n",
    "- NASA's [Daymet](https://daymet.ornl.gov/) using coordinates from the Clemson University Pee Dee Research Center\n",
    "- latitude: 34.289\t\n",
    "- longitude: -79.737\n",
    "\n",
    "#### Wind and humidity data were downloaded from\n",
    "- Climate [Engine](https://clim-engine.appspot.com/climateEngine) using coordinates from the Clemson Pee Dee Research and Education Center\n",
    "- latitude: 34.289\t\n",
    "- longitude: -79.737\n",
    "\n",
    "#### These are more precise environmental data which will be used in combination with the trait [data](https://github.com/MagicMilly/for-data-publication/tree/main/data/processed) from Brenton et al. 2016 at the Clemson University Pee Dee Research Center"
   ]
  },
  {
   "cell_type": "code",
   "execution_count": 5,
   "metadata": {},
   "outputs": [],
   "source": [
    "import datetime\n",
    "import numpy as np\n",
    "import pandas as pd"
   ]
  },
  {
   "cell_type": "markdown",
   "metadata": {},
   "source": [
    "### A. Daymet Download"
   ]
  },
  {
   "cell_type": "code",
   "execution_count": 7,
   "metadata": {},
   "outputs": [
    {
     "name": "stdout",
     "output_type": "stream",
     "text": [
      "(365, 9)\n"
     ]
    }
   ],
   "source": [
    "daymet_0 = pd.read_csv('data/raw/clemson_raw_daily_2014_updated.csv')\n",
    "print(daymet_0.shape)\n",
    "# daymet_0.head()"
   ]
  },
  {
   "cell_type": "markdown",
   "metadata": {},
   "source": [
    "### Columns from Daymet Download\n",
    "- year\n",
    "- day of year\n",
    "- dayl - daylength, seconds per day\n",
    "- precipitation in mm\n",
    "- srad - shortwave radiation (can be used with dayl to calculate total daily radiation)\n",
    "- swe - snow water equivalent\n",
    "- air temperature max in C\n",
    "- air temperature min in C\n",
    "- vp - daily average partial pressure of water vapor, in Pascals"
   ]
  },
  {
   "cell_type": "markdown",
   "metadata": {},
   "source": [
    "#### Add Dates"
   ]
  },
  {
   "cell_type": "code",
   "execution_count": 8,
   "metadata": {},
   "outputs": [],
   "source": [
    "date_range_2014 = pd.date_range(start='2014-01-01', end='2014-12-31')"
   ]
  },
  {
   "cell_type": "code",
   "execution_count": 9,
   "metadata": {},
   "outputs": [
    {
     "name": "stdout",
     "output_type": "stream",
     "text": [
      "(365, 10)\n"
     ]
    }
   ],
   "source": [
    "daymet_1 = daymet_0.copy()\n",
    "daymet_1['date'] = date_range_2014\n",
    "print(daymet_1.shape)\n",
    "# daymet_1.tail()"
   ]
  },
  {
   "cell_type": "markdown",
   "metadata": {},
   "source": [
    "#### Drop Columns\n",
    "- year\n",
    "- dayl\n",
    "- solar radiation\n",
    "- snow water equivalent"
   ]
  },
  {
   "cell_type": "code",
   "execution_count": 10,
   "metadata": {},
   "outputs": [
    {
     "name": "stdout",
     "output_type": "stream",
     "text": [
      "(365, 6)\n"
     ]
    }
   ],
   "source": [
    "cols_to_drop = ['year', 'dayl (s)', 'srad (W/m^2)', 'swe (kg/m^2)']\n",
    "\n",
    "daymet_2 = daymet_1.drop(labels=cols_to_drop, axis=1)\n",
    "print(daymet_2.shape)\n",
    "# daymet_2.head()"
   ]
  },
  {
   "cell_type": "markdown",
   "metadata": {},
   "source": [
    "#### Rename Columns"
   ]
  },
  {
   "cell_type": "code",
   "execution_count": 11,
   "metadata": {},
   "outputs": [
    {
     "name": "stdout",
     "output_type": "stream",
     "text": [
      "(365, 6)\n"
     ]
    }
   ],
   "source": [
    "daymet_3 = daymet_2.rename({'yday': 'day_of_year', 'prcp (mm/day)': 'precip_mm', 'tmax (deg c)': 'temp_max_c',\n",
    "                           'tmin (deg c)': 'temp_min_c', 'vp (Pa)': 'vapor_pressure'}, axis=1)\n",
    "\n",
    "print(daymet_3.shape)\n",
    "# daymet_3.tail()"
   ]
  },
  {
   "cell_type": "code",
   "execution_count": 12,
   "metadata": {},
   "outputs": [],
   "source": [
    "# daymet_3.dtypes"
   ]
  },
  {
   "cell_type": "markdown",
   "metadata": {},
   "source": [
    "### B. Climate Engine Download\n",
    "- rh_n - dataset with relative humidity values\n",
    "- wind_n - dataset with wind values\n",
    "    - Assumption that these are average wind speed values per day, but have not found the official documentation yet"
   ]
  },
  {
   "cell_type": "code",
   "execution_count": 13,
   "metadata": {},
   "outputs": [
    {
     "name": "stdout",
     "output_type": "stream",
     "text": [
      "(365, 3)\n"
     ]
    }
   ],
   "source": [
    "rh_0 = pd.read_csv('data/raw/clemson_rh_2014.csv')\n",
    "print(rh_0.shape)\n",
    "# rh_0.head()"
   ]
  },
  {
   "cell_type": "markdown",
   "metadata": {},
   "source": [
    "#### Rename Columns"
   ]
  },
  {
   "cell_type": "code",
   "execution_count": 14,
   "metadata": {},
   "outputs": [],
   "source": [
    "# rh_0.columns"
   ]
  },
  {
   "cell_type": "code",
   "execution_count": 15,
   "metadata": {},
   "outputs": [
    {
     "name": "stdout",
     "output_type": "stream",
     "text": [
      "(365, 3)\n"
     ]
    }
   ],
   "source": [
    "rh_1 = rh_0.rename({'(%) Min Rel. Humidity (gridMET), -79.7370E,34.2890N ,2014-01-01 to 2014-12-31': 'min_rh',\n",
    "                   '(%) Max Rel. Humidity (gridMET), -79.7370E,34.2890N ,2014-01-01 to 2014-12-31': 'max_rh'}, axis=1)\n",
    "\n",
    "print(rh_1.shape)\n",
    "# rh_1.head()"
   ]
  },
  {
   "cell_type": "markdown",
   "metadata": {},
   "source": [
    "#### Change `DateTime` values to datetime objects"
   ]
  },
  {
   "cell_type": "code",
   "execution_count": 16,
   "metadata": {},
   "outputs": [],
   "source": [
    "date_range = pd.to_datetime(rh_1.DateTime)\n",
    "# date_range"
   ]
  },
  {
   "cell_type": "code",
   "execution_count": 17,
   "metadata": {},
   "outputs": [
    {
     "name": "stdout",
     "output_type": "stream",
     "text": [
      "DateTime            object\n",
      "min_rh             float64\n",
      "max_rh             float64\n",
      "date        datetime64[ns]\n",
      "dtype: object\n"
     ]
    }
   ],
   "source": [
    "rh_2 = rh_1.copy()\n",
    "rh_2['date'] = date_range\n",
    "print(rh_2.dtypes)\n",
    "# rh_2.head()"
   ]
  },
  {
   "cell_type": "markdown",
   "metadata": {},
   "source": [
    "#### Drop DateTime Column"
   ]
  },
  {
   "cell_type": "code",
   "execution_count": 18,
   "metadata": {},
   "outputs": [
    {
     "name": "stdout",
     "output_type": "stream",
     "text": [
      "(365, 3)\n"
     ]
    }
   ],
   "source": [
    "rh_3 = rh_2.drop('DateTime', axis=1)\n",
    "print(rh_3.shape)\n",
    "# rh_3.tail()"
   ]
  },
  {
   "cell_type": "code",
   "execution_count": 19,
   "metadata": {},
   "outputs": [
    {
     "name": "stdout",
     "output_type": "stream",
     "text": [
      "(365, 2)\n"
     ]
    }
   ],
   "source": [
    "wind_0 = pd.read_csv('data/raw/climate_engine_wind_speed_2014.csv')\n",
    "print(wind_0.shape)\n",
    "# wind_0.head()"
   ]
  },
  {
   "cell_type": "markdown",
   "metadata": {},
   "source": [
    "#### Rename Column"
   ]
  },
  {
   "cell_type": "code",
   "execution_count": 20,
   "metadata": {},
   "outputs": [
    {
     "name": "stdout",
     "output_type": "stream",
     "text": [
      "(365, 2)\n"
     ]
    }
   ],
   "source": [
    "wind_1 = wind_0.rename({'(m/s) Wind Speed (gridMET) at -79.7370E,34.2890N, 2014-01-01 to 2014-12-31': 'wind_speed'},\n",
    "                      axis=1)\n",
    "\n",
    "print(wind_1.shape)\n",
    "# wind_1.head()"
   ]
  },
  {
   "cell_type": "markdown",
   "metadata": {},
   "source": [
    "#### New Column with datetime object"
   ]
  },
  {
   "cell_type": "code",
   "execution_count": 21,
   "metadata": {},
   "outputs": [
    {
     "name": "stdout",
     "output_type": "stream",
     "text": [
      "(365, 3)\n"
     ]
    }
   ],
   "source": [
    "date_range = pd.to_datetime(wind_1.DateTime)\n",
    "\n",
    "wind_2 = wind_1.copy()\n",
    "wind_2['date'] = date_range\n",
    "\n",
    "print(wind_2.shape)\n",
    "# wind_2.tail()"
   ]
  },
  {
   "cell_type": "markdown",
   "metadata": {},
   "source": [
    "#### Drop DateTime Column"
   ]
  },
  {
   "cell_type": "code",
   "execution_count": 22,
   "metadata": {},
   "outputs": [],
   "source": [
    "wind_3 = wind_2.drop('DateTime', axis=1)\n",
    "# wind_3.head()"
   ]
  },
  {
   "cell_type": "markdown",
   "metadata": {},
   "source": [
    "#### Merge DataFrames"
   ]
  },
  {
   "cell_type": "code",
   "execution_count": 23,
   "metadata": {},
   "outputs": [
    {
     "name": "stdout",
     "output_type": "stream",
     "text": [
      "(365, 9)\n"
     ]
    }
   ],
   "source": [
    "temp_rh_wind_0 = daymet_3.merge(rh_3, how='outer', right_on='date', left_on='date').merge(wind_3, how='outer',\n",
    "                                                                                    left_on='date', right_on='date')\n",
    "\n",
    "print(temp_rh_wind_0.shape)\n",
    "# temp_rh_wind_0.head()"
   ]
  },
  {
   "cell_type": "markdown",
   "metadata": {},
   "source": [
    "#### Add cumulative precipitation column"
   ]
  },
  {
   "cell_type": "code",
   "execution_count": 24,
   "metadata": {},
   "outputs": [
    {
     "name": "stdout",
     "output_type": "stream",
     "text": [
      "(365, 10)\n"
     ]
    }
   ],
   "source": [
    "temp_rh_wind_1 = temp_rh_wind_0.copy()\n",
    "\n",
    "temp_rh_wind_1['cum_precip_mm'] = np.cumsum(temp_rh_wind_1.precip_mm)\n",
    "print(temp_rh_wind_1.shape)\n",
    "# temp_rh_wind_1.head(10)"
   ]
  },
  {
   "cell_type": "markdown",
   "metadata": {},
   "source": [
    "#### Round values to 2 decimal points"
   ]
  },
  {
   "cell_type": "code",
   "execution_count": 25,
   "metadata": {},
   "outputs": [
    {
     "name": "stdout",
     "output_type": "stream",
     "text": [
      "(365, 10)\n"
     ]
    }
   ],
   "source": [
    "temp_rh_wind_2 = temp_rh_wind_1.copy()\n",
    "\n",
    "temp_rh_wind_2[['temp_max_c', 'temp_min_c', 'min_rh', 'max_rh', 'wind_speed', \n",
    "               'cum_precip_mm']] = temp_rh_wind_2[['temp_max_c', 'temp_min_c', 'min_rh', 'max_rh', \n",
    "                                                 'wind_speed', 'cum_precip_mm']].round(2)\n",
    "\n",
    "print(temp_rh_wind_2.shape)\n",
    "# temp_rh_wind_2.tail()"
   ]
  },
  {
   "cell_type": "markdown",
   "metadata": {},
   "source": [
    "#### Reorder Columns"
   ]
  },
  {
   "cell_type": "code",
   "execution_count": 26,
   "metadata": {},
   "outputs": [],
   "source": [
    "# temp_rh_wind_2.columns"
   ]
  },
  {
   "cell_type": "code",
   "execution_count": 29,
   "metadata": {},
   "outputs": [
    {
     "name": "stdout",
     "output_type": "stream",
     "text": [
      "(365, 10)\n"
     ]
    },
    {
     "data": {
      "text/html": [
       "<div>\n",
       "<style scoped>\n",
       "    .dataframe tbody tr th:only-of-type {\n",
       "        vertical-align: middle;\n",
       "    }\n",
       "\n",
       "    .dataframe tbody tr th {\n",
       "        vertical-align: top;\n",
       "    }\n",
       "\n",
       "    .dataframe thead th {\n",
       "        text-align: right;\n",
       "    }\n",
       "</style>\n",
       "<table border=\"1\" class=\"dataframe\">\n",
       "  <thead>\n",
       "    <tr style=\"text-align: right;\">\n",
       "      <th></th>\n",
       "      <th>date</th>\n",
       "      <th>day_of_year</th>\n",
       "      <th>temp_min_c</th>\n",
       "      <th>temp_max_c</th>\n",
       "      <th>min_rh</th>\n",
       "      <th>max_rh</th>\n",
       "      <th>vapor_pressure</th>\n",
       "      <th>wind_speed</th>\n",
       "      <th>precip_mm</th>\n",
       "      <th>cum_precip_mm</th>\n",
       "    </tr>\n",
       "  </thead>\n",
       "  <tbody>\n",
       "    <tr>\n",
       "      <th>0</th>\n",
       "      <td>2014-01-01</td>\n",
       "      <td>1</td>\n",
       "      <td>0.5</td>\n",
       "      <td>12.0</td>\n",
       "      <td>39.86</td>\n",
       "      <td>64.12</td>\n",
       "      <td>640</td>\n",
       "      <td>2.14</td>\n",
       "      <td>0</td>\n",
       "      <td>0</td>\n",
       "    </tr>\n",
       "    <tr>\n",
       "      <th>1</th>\n",
       "      <td>2014-01-02</td>\n",
       "      <td>2</td>\n",
       "      <td>3.0</td>\n",
       "      <td>10.0</td>\n",
       "      <td>64.53</td>\n",
       "      <td>100.00</td>\n",
       "      <td>760</td>\n",
       "      <td>1.52</td>\n",
       "      <td>5</td>\n",
       "      <td>5</td>\n",
       "    </tr>\n",
       "    <tr>\n",
       "      <th>2</th>\n",
       "      <td>2014-01-03</td>\n",
       "      <td>3</td>\n",
       "      <td>-3.5</td>\n",
       "      <td>10.0</td>\n",
       "      <td>56.70</td>\n",
       "      <td>100.00</td>\n",
       "      <td>480</td>\n",
       "      <td>7.26</td>\n",
       "      <td>11</td>\n",
       "      <td>16</td>\n",
       "    </tr>\n",
       "  </tbody>\n",
       "</table>\n",
       "</div>"
      ],
      "text/plain": [
       "        date  day_of_year  temp_min_c  temp_max_c  min_rh  max_rh  \\\n",
       "0 2014-01-01            1         0.5        12.0   39.86   64.12   \n",
       "1 2014-01-02            2         3.0        10.0   64.53  100.00   \n",
       "2 2014-01-03            3        -3.5        10.0   56.70  100.00   \n",
       "\n",
       "   vapor_pressure  wind_speed  precip_mm  cum_precip_mm  \n",
       "0             640        2.14          0              0  \n",
       "1             760        1.52          5              5  \n",
       "2             480        7.26         11             16  "
      ]
     },
     "execution_count": 29,
     "metadata": {},
     "output_type": "execute_result"
    }
   ],
   "source": [
    "new_col_order = ['date', 'day_of_year', 'temp_min_c', 'temp_max_c', 'min_rh', 'max_rh', 'vapor_pressure', \n",
    "                 'wind_speed', 'precip_mm', 'cum_precip_mm']\n",
    "\n",
    "temp_rh_wind_3 = pd.DataFrame(data=temp_rh_wind_2, columns=new_col_order)\n",
    "print(temp_rh_wind_3.shape)\n",
    "temp_rh_wind_3.head(3)"
   ]
  },
  {
   "cell_type": "markdown",
   "metadata": {},
   "source": [
    "#### Write to CSV"
   ]
  },
  {
   "cell_type": "code",
   "execution_count": 30,
   "metadata": {},
   "outputs": [],
   "source": [
    "temp_rh_wind_3.to_csv('data/interim/updated_clemson_weather_2014_2020-06-24.csv', index=False)"
   ]
  },
  {
   "cell_type": "code",
   "execution_count": null,
   "metadata": {},
   "outputs": [],
   "source": []
  }
 ],
 "metadata": {
  "kernelspec": {
   "display_name": "Python 3",
   "language": "python",
   "name": "python3"
  },
  "language_info": {
   "codemirror_mode": {
    "name": "ipython",
    "version": 3
   },
   "file_extension": ".py",
   "mimetype": "text/x-python",
   "name": "python",
   "nbconvert_exporter": "python",
   "pygments_lexer": "ipython3",
   "version": "3.7.5"
  }
 },
 "nbformat": 4,
 "nbformat_minor": 2
}
