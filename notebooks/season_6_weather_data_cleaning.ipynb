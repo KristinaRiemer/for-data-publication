{
 "cells": [
  {
   "cell_type": "markdown",
   "metadata": {},
   "source": [
    "### MAC Season 6 Weather Data\n",
    "- This notebook contains the code used to process raw weather station data from Maricopa Agricultural Center\n",
    "- Data modified or added\n",
    "    - sliced for season 6 dates only\n",
    "        - planting: 2018-04-25\n",
    "        - harvest: 2018-08-01\n",
    "    - added dates\n",
    "    - added cumulative growing degree days\n",
    "    - added cumulative precipitation\n",
    "    - changed name of `vpd_mean` columns to include units `vpd_mean_kpa`"
   ]
  },
  {
   "cell_type": "code",
   "execution_count": null,
   "metadata": {},
   "outputs": [],
   "source": [
    "import datetime\n",
    "import numpy as np\n",
    "import pandas as pd"
   ]
  },
  {
   "cell_type": "code",
   "execution_count": null,
   "metadata": {},
   "outputs": [],
   "source": [
    "# Read in raw season 6 weather data from MAC weather station\n",
    "\n",
    "weather_df_0 = pd.read_csv('data/raw/mac/mac_weather_station_raw_daily_2018.csv')\n",
    "print(weather_df_0.shape)\n",
    "# weather_df_0.head(3)"
   ]
  },
  {
   "cell_type": "markdown",
   "metadata": {},
   "source": [
    "#### Slice dataframe for season dates only and add date column\n",
    "\n",
    "- Planting Date: 2018-04-25, Day of Year 115\n",
    "- Last Day of Harvest: 2018-08-01, Day of Year 213"
   ]
  },
  {
   "cell_type": "code",
   "execution_count": null,
   "metadata": {},
   "outputs": [],
   "source": [
    "weather_df_1 = weather_df_0.loc[(weather_df_0.day_of_year >= 115) & (weather_df_0.day_of_year <= 213)]\n",
    "# print(weather_df_1.shape)\n",
    "# weather_df_1.head(3)"
   ]
  },
  {
   "cell_type": "code",
   "execution_count": null,
   "metadata": {},
   "outputs": [],
   "source": [
    "season_6_date_range = pd.date_range(start='2018-04-25', end='2018-08-01')"
   ]
  },
  {
   "cell_type": "code",
   "execution_count": null,
   "metadata": {},
   "outputs": [],
   "source": [
    "weather_df_2 = weather_df_1.copy()\n",
    "weather_df_2['date'] = season_6_date_range\n",
    "# print(weather_df_2.shape)\n",
    "# weather_df_2.tail(3)"
   ]
  },
  {
   "cell_type": "markdown",
   "metadata": {},
   "source": [
    "#### Add Growing Degree Days\n",
    "- 10 degrees Celsius is base temp for sorghum\n",
    "- Daily gdd value = ((max temp + min temp) / 2) - 10 (base temp)\n",
    "- Growing Degree Days = cumulative sum of daily gdd values\n",
    "- Negative values convert to 0"
   ]
  },
  {
   "cell_type": "code",
   "execution_count": null,
   "metadata": {},
   "outputs": [],
   "source": [
    "weather_df_3 = weather_df_2.copy()\n",
    "weather_df_3['daily_gdd'] = (((weather_df_3['air_temp_max'] + weather_df_3['air_temp_min'])) / 2) - 10\n",
    "# print(weather_df_3.shape)\n",
    "# weather_df_3.head(3)"
   ]
  },
  {
   "cell_type": "code",
   "execution_count": null,
   "metadata": {},
   "outputs": [],
   "source": [
    "# Check for negative values - will return empty df if there are none\n",
    "\n",
    "weather_df_3.loc[weather_df_3.daily_gdd < 0]"
   ]
  },
  {
   "cell_type": "code",
   "execution_count": null,
   "metadata": {},
   "outputs": [],
   "source": [
    "weather_df_4 = weather_df_3.copy()\n",
    "weather_df_4['gdd'] = np.rint(np.cumsum(weather_df_4['daily_gdd']))\n",
    "# print(weather_df_4.shape)\n",
    "# weather_df_4.tail(3)"
   ]
  },
  {
   "cell_type": "code",
   "execution_count": null,
   "metadata": {},
   "outputs": [],
   "source": [
    "# Drop daily gdd value, keep only cumulative gdd values\n",
    "\n",
    "weather_df_5 = weather_df_4.drop(labels='daily_gdd', axis=1)\n",
    "# print(weather_df_5.shape)\n",
    "# weather_df_5.tail()"
   ]
  },
  {
   "cell_type": "code",
   "execution_count": null,
   "metadata": {},
   "outputs": [],
   "source": [
    "weather_df_6 = weather_df_5.copy()\n",
    "weather_df_6['cum_precip'] = np.round(np.cumsum(weather_df_6.precip_total), 2)\n",
    "# weather_df_6.head(3)"
   ]
  },
  {
   "cell_type": "markdown",
   "metadata": {},
   "source": [
    "#### Change name of vapor pressure column to include units"
   ]
  },
  {
   "cell_type": "code",
   "execution_count": null,
   "metadata": {},
   "outputs": [],
   "source": [
    "weather_df_7 = weather_df_6.rename({'vpd_mean': 'vpd_mean_kpa'}, axis=1)\n",
    "print(weather_df_7.shape)\n",
    "weather_df_7.sample(n=3)"
   ]
  },
  {
   "cell_type": "markdown",
   "metadata": {},
   "source": [
    "#### Write weather data to csv"
   ]
  },
  {
   "cell_type": "code",
   "execution_count": null,
   "metadata": {},
   "outputs": [],
   "source": [
    "weather_df_7.to_csv('data/weather/mac_season_6_weather.csv', index=False)"
   ]
  }
 ],
 "metadata": {
  "kernelspec": {
   "display_name": "jupyter-data-cleaning",
   "language": "python",
   "name": "jupyter-data-cleaning"
  },
  "language_info": {
   "codemirror_mode": {
    "name": "ipython",
    "version": 3
   },
   "file_extension": ".py",
   "mimetype": "text/x-python",
   "name": "python",
   "nbconvert_exporter": "python",
   "pygments_lexer": "ipython3",
   "version": "3.8.2"
  }
 },
 "nbformat": 4,
 "nbformat_minor": 2
}
