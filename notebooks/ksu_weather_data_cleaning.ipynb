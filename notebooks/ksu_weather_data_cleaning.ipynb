{
 "cells": [
  {
   "cell_type": "markdown",
   "metadata": {},
   "source": [
    "#### KSU Hourly Weather Data\n",
    "- need to use hourly values of temp and rh to calculate hourly vpd, then daily vpd"
   ]
  },
  {
   "cell_type": "code",
   "execution_count": null,
   "metadata": {},
   "outputs": [],
   "source": [
    "import numpy as np\n",
    "import pandas as pd"
   ]
  },
  {
   "cell_type": "code",
   "execution_count": null,
   "metadata": {},
   "outputs": [],
   "source": [
    "ksu_0 = pd.read_csv('data/raw/ksu/kansas_hourly_weather/ksu_hourly_weather.csv')\n",
    "# print(ksu_0.shape)\n",
    "# ksu_0.head()"
   ]
  },
  {
   "cell_type": "markdown",
   "metadata": {},
   "source": [
    "1. create a column that calculates vpd per row (hour)\n",
    "2. create new column that only includes the date and not the hourly timestamp\n",
    "3. group by days to create vpd for each day \n",
    "4. add this to the other daily ksu weather data"
   ]
  },
  {
   "cell_type": "code",
   "execution_count": null,
   "metadata": {},
   "outputs": [],
   "source": [
    "# remove first two rows\n",
    "\n",
    "ksu_1 = ksu_0.iloc[2:]\n",
    "# print(ksu_1.shape)\n",
    "# ksu_1.head(3)"
   ]
  },
  {
   "cell_type": "code",
   "execution_count": null,
   "metadata": {},
   "outputs": [],
   "source": [
    "def calculate_vpd_kpa(temp_avg_c, rh_avg):\n",
    "    es = (6.11 * np.exp((2500000/461) * (1/273 - 1/(273 + temp_avg_c))))\n",
    "    vpd = (((100 - rh_avg)/1000) * es)\n",
    "    return vpd"
   ]
  },
  {
   "cell_type": "code",
   "execution_count": null,
   "metadata": {},
   "outputs": [],
   "source": [
    "ksu_2 = ksu_1.copy()\n",
    "ksu_2['AirTemperature'] = pd.to_numeric(ksu_2['AirTemperature'], errors='coerce')"
   ]
  },
  {
   "cell_type": "code",
   "execution_count": null,
   "metadata": {},
   "outputs": [],
   "source": [
    "ksu_3 = ksu_2.copy()\n",
    "ksu_3['RelativeHumidity'] = pd.to_numeric(ksu_3['RelativeHumidity'], errors='coerce')\n",
    "# print(ksu_3.shape)\n",
    "# print(ksu_3.dtypes)\n",
    "# ksu_3.head()"
   ]
  },
  {
   "cell_type": "code",
   "execution_count": null,
   "metadata": {},
   "outputs": [],
   "source": [
    "ksu_4 = ksu_3.copy()\n",
    "ksu_4['vpd_kpa'] = calculate_vpd_kpa(ksu_4['AirTemperature'], ksu_4['RelativeHumidity'])\n",
    "# print(ksu_4.shape)\n",
    "# ksu_4.head()"
   ]
  },
  {
   "cell_type": "code",
   "execution_count": null,
   "metadata": {},
   "outputs": [],
   "source": [
    "vpd_0 = ksu_4[['Timestamp', 'vpd_kpa']]\n",
    "# vpd_0.head()"
   ]
  },
  {
   "cell_type": "code",
   "execution_count": null,
   "metadata": {},
   "outputs": [],
   "source": [
    "# vpd_0.isnull().sum()"
   ]
  },
  {
   "cell_type": "code",
   "execution_count": null,
   "metadata": {},
   "outputs": [],
   "source": [
    "vpd_1 = vpd_0.dropna(how='any', axis=0)\n",
    "# print(vpd_1.shape)\n",
    "# vpd_1.head()"
   ]
  },
  {
   "cell_type": "code",
   "execution_count": null,
   "metadata": {},
   "outputs": [],
   "source": [
    "just_dates = []\n",
    "\n",
    "for timestamp in vpd_1['Timestamp'].values:\n",
    "    date = timestamp[:10]\n",
    "    just_dates.append(date)"
   ]
  },
  {
   "cell_type": "code",
   "execution_count": null,
   "metadata": {},
   "outputs": [],
   "source": [
    "vpd_2 = vpd_1.copy()\n",
    "vpd_2['date'] = just_dates\n",
    "\n",
    "# print(vpd_2.shape)\n",
    "# vpd_2.tail()"
   ]
  },
  {
   "cell_type": "code",
   "execution_count": null,
   "metadata": {},
   "outputs": [],
   "source": [
    "daily_vpd_kpa = vpd_2.groupby(['date'], as_index=False)['vpd_kpa'].mean()\n",
    "# print(daily_vpd_kpa.shape)\n",
    "# daily_vpd_kpa.head()"
   ]
  },
  {
   "cell_type": "code",
   "execution_count": null,
   "metadata": {},
   "outputs": [],
   "source": [
    "ksu_daily_0 = pd.read_csv('data/weather/ksu_weather.csv')\n",
    "# print(ksu_daily_0.shape)\n",
    "# ksu_daily_0.head()"
   ]
  },
  {
   "cell_type": "code",
   "execution_count": null,
   "metadata": {},
   "outputs": [],
   "source": [
    "added_vpd_0 = ksu_daily_0.merge(daily_vpd_kpa, how='left', left_on='date', right_on='date')\n",
    "# print(added_vpd_0.shape)\n",
    "# added_vpd_0.head()"
   ]
  },
  {
   "cell_type": "code",
   "execution_count": null,
   "metadata": {},
   "outputs": [],
   "source": [
    "added_vpd_1 = added_vpd_0.copy()\n",
    "added_vpd_1['vpd_kpa'] = round(added_vpd_1['vpd_kpa'], 2)\n",
    "# print(added_vpd_1.shape)\n",
    "# added_vpd_1.head()"
   ]
  },
  {
   "cell_type": "code",
   "execution_count": null,
   "metadata": {},
   "outputs": [],
   "source": [
    "# print(added_vpd_1.date.min())\n",
    "# print(added_vpd_1.date.max())"
   ]
  },
  {
   "cell_type": "code",
   "execution_count": null,
   "metadata": {},
   "outputs": [],
   "source": [
    "# looked up dates on DOY calendar 169 - 295\n",
    "days = [day for day in range(169, 296)]"
   ]
  },
  {
   "cell_type": "code",
   "execution_count": null,
   "metadata": {},
   "outputs": [],
   "source": [
    "added_vpd_2 = added_vpd_1.copy()\n",
    "added_vpd_2['day_of_year'] = days\n",
    "print(added_vpd_2.shape)\n",
    "added_vpd_2.tail(3)"
   ]
  },
  {
   "cell_type": "code",
   "execution_count": null,
   "metadata": {},
   "outputs": [],
   "source": [
    "added_vpd_2.to_csv('data/weather/ksu_weather.csv', index=False)"
   ]
  }
 ],
 "metadata": {
  "kernelspec": {
   "display_name": "jupyter-data-cleaning",
   "language": "python",
   "name": "jupyter-data-cleaning"
  },
  "language_info": {
   "codemirror_mode": {
    "name": "ipython",
    "version": 3
   },
   "file_extension": ".py",
   "mimetype": "text/x-python",
   "name": "python",
   "nbconvert_exporter": "python",
   "pygments_lexer": "ipython3",
   "version": "3.8.2"
  }
 },
 "nbformat": 4,
 "nbformat_minor": 2
}
