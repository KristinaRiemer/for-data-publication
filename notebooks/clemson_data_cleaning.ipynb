{
 "cells": [
  {
   "cell_type": "markdown",
   "metadata": {},
   "source": [
    "### Clemson Sorghum Experiments Data Cleaning Notebook\n",
    "#### Data from [Brenton et al., 2016](https://www.genetics.org/content/204/1/21) collected from Clemson University Pee Dee Research and Education Center in 2014\n",
    "- goal: to gather more cultivar and environmental data in addition to MAC Sorghum Seasons 4 & 6 and KSU Experiments\n",
    "- please contact Emily Cain at ejcain@arizona.edu with any questions or feedback"
   ]
  },
  {
   "cell_type": "code",
   "execution_count": 1,
   "metadata": {},
   "outputs": [],
   "source": [
    "import datetime\n",
    "import numpy as np\n",
    "import pandas as pd"
   ]
  },
  {
   "cell_type": "markdown",
   "metadata": {},
   "source": [
    "#### Read in data queried from betydb in `R` using this code:\n",
    "```\n",
    "library(traits)\n",
    "\n",
    "options(betydb_url = \"https://terraref.ncsa.illinois.edu/bety/\",\n",
    "        betydb_api_version = 'v1',\n",
    "        betydb_key = 'secret_api_key_123456_abcde')\n",
    "        \n",
    "clemson <- betydb_query(sitename  = \"~Clemson\",\n",
    "                         limit     =  \"none\")\n",
    "                      \n",
    "write.csv(clemson, file = \"clemson_data_2020-06-01.csv\")\n",
    "```"
   ]
  },
  {
   "cell_type": "code",
   "execution_count": 3,
   "metadata": {},
   "outputs": [
    {
     "name": "stdout",
     "output_type": "stream",
     "text": [
      "(1657, 39)\n"
     ]
    }
   ],
   "source": [
    "df_0 = pd.read_csv('data/raw/clemson_data_2020-06-01.csv')\n",
    "print(df_0.shape)\n",
    "# df_0.head(3)"
   ]
  },
  {
   "cell_type": "code",
   "execution_count": 4,
   "metadata": {},
   "outputs": [],
   "source": [
    "# print(df_0.raw_date.min())\n",
    "# print(df_0.raw_date.max())"
   ]
  },
  {
   "cell_type": "markdown",
   "metadata": {},
   "source": [
    "#### Slice for selected traits\n",
    "- plant height\n",
    "- days & GDD to flowering\n",
    "- aboveground dry biomass\n",
    "- may use other traits as needed for future models"
   ]
  },
  {
   "cell_type": "code",
   "execution_count": 5,
   "metadata": {},
   "outputs": [
    {
     "data": {
      "text/plain": [
       "array(['ndf', 'adf', 'flowering_time', 'plant_height',\n",
       "       'aboveground_dry_biomass'], dtype=object)"
      ]
     },
     "execution_count": 5,
     "metadata": {},
     "output_type": "execute_result"
    }
   ],
   "source": [
    "df_0.trait.unique()"
   ]
  },
  {
   "cell_type": "code",
   "execution_count": 6,
   "metadata": {},
   "outputs": [
    {
     "name": "stdout",
     "output_type": "stream",
     "text": [
      "(931, 39)\n"
     ]
    }
   ],
   "source": [
    "df_1 = df_0.loc[(df_0.trait == 'flowering_time') | (df_0.trait == 'plant_height') | (df_0.trait == 'aboveground_dry_biomass')]\n",
    "print(df_1.shape)\n",
    "# df_1.tail()"
   ]
  },
  {
   "cell_type": "markdown",
   "metadata": {},
   "source": [
    "#### Drop & Rename Columns\n",
    "- rename `mean` to `value`\n",
    "- convert `raw_date` to new datetime object\n",
    "- new datetime object will be in `date` column\n",
    "- drop `raw_date` column"
   ]
  },
  {
   "cell_type": "code",
   "execution_count": 7,
   "metadata": {},
   "outputs": [],
   "source": [
    "# df_1.columns"
   ]
  },
  {
   "cell_type": "code",
   "execution_count": 8,
   "metadata": {},
   "outputs": [],
   "source": [
    "# Can drop most columns with only one value\n",
    "\n",
    "# for col in df_1.columns:\n",
    "    \n",
    "#     if df_1[col].nunique() < 5:\n",
    "#         print(f'Unique values for {col}: {df_1[col].unique()}')"
   ]
  },
  {
   "cell_type": "code",
   "execution_count": 9,
   "metadata": {},
   "outputs": [
    {
     "name": "stdout",
     "output_type": "stream",
     "text": [
      "(931, 13)\n"
     ]
    }
   ],
   "source": [
    "cols_to_drop = ['Unnamed: 0', 'checked', 'result_type', 'id', 'citation_id', 'site_id', 'treatment_id', \n",
    "                'commonname', 'genus', 'species_id', 'cultivar_id', 'month', 'year', 'dateloc', 'n', 'statname', \n",
    "                'stat', 'notes', 'access_level', 'entity', 'view_url', 'edit_url', 'date', 'time', 'method_name', \n",
    "                'treatment']\n",
    "\n",
    "df_2 = df_1.drop(labels=cols_to_drop, axis=1)\n",
    "print(df_2.shape)\n",
    "# df_2.head()"
   ]
  },
  {
   "cell_type": "markdown",
   "metadata": {},
   "source": [
    "#### Convert `raw_date` to datetime object"
   ]
  },
  {
   "cell_type": "code",
   "execution_count": 10,
   "metadata": {},
   "outputs": [],
   "source": [
    "# df_2.dtypes"
   ]
  },
  {
   "cell_type": "code",
   "execution_count": 11,
   "metadata": {},
   "outputs": [
    {
     "name": "stdout",
     "output_type": "stream",
     "text": [
      "(931, 13)\n",
      "(931, 14)\n"
     ]
    }
   ],
   "source": [
    "new_dates = pd.to_datetime(df_2.raw_date)\n",
    "\n",
    "df_3 = df_2.copy()\n",
    "df_3['date'] = new_dates\n",
    "\n",
    "print(df_2.shape)\n",
    "print(df_3.shape)\n",
    "\n",
    "# df_3.head(3)"
   ]
  },
  {
   "cell_type": "code",
   "execution_count": 12,
   "metadata": {},
   "outputs": [
    {
     "name": "stdout",
     "output_type": "stream",
     "text": [
      "(931, 14)\n"
     ]
    }
   ],
   "source": [
    "df_4 = df_3.rename({'mean': 'value'}, axis=1)\n",
    "print(df_4.shape)\n",
    "# df_4.tail(3)"
   ]
  },
  {
   "cell_type": "code",
   "execution_count": 13,
   "metadata": {},
   "outputs": [
    {
     "name": "stdout",
     "output_type": "stream",
     "text": [
      "(931, 13)\n"
     ]
    }
   ],
   "source": [
    "df_5 = df_4.drop(labels=['raw_date'], axis=1)\n",
    "print(df_5.shape)\n",
    "# df_5.head()"
   ]
  },
  {
   "cell_type": "markdown",
   "metadata": {},
   "source": [
    "### Add Weather Data\n",
    "- downloaded from [NOAA](https://www.ncdc.noaa.gov/cdo-web/datasets#GHCND)\n",
    "- [Documentation](https://www1.ncdc.noaa.gov/pub/data/cdo/documentation/GHCND_documentation.pdf)\n",
    "- Florence Regional Airport Weather\n",
    "- will get temperatures first to calculate GDD"
   ]
  },
  {
   "cell_type": "code",
   "execution_count": 14,
   "metadata": {},
   "outputs": [
    {
     "name": "stdout",
     "output_type": "stream",
     "text": [
      "(365, 42)\n"
     ]
    }
   ],
   "source": [
    "weather_0 = pd.read_csv('data/raw/clemson_weather_daily_2014.csv')\n",
    "print(weather_0.shape)\n",
    "# weather_0.head()"
   ]
  },
  {
   "cell_type": "markdown",
   "metadata": {},
   "source": [
    "#### Drop columns with climate data other than temperature and precipitation"
   ]
  },
  {
   "cell_type": "code",
   "execution_count": 15,
   "metadata": {},
   "outputs": [],
   "source": [
    "# weather_0.columns"
   ]
  },
  {
   "cell_type": "code",
   "execution_count": 16,
   "metadata": {},
   "outputs": [
    {
     "name": "stdout",
     "output_type": "stream",
     "text": [
      "(365, 8)\n"
     ]
    }
   ],
   "source": [
    "cols_to_drop = ['STATION', 'AWND', 'AWND_ATTRIBUTES', 'PGTM', 'PGTM_ATTRIBUTES', 'SNOW', 'SNOW_ATTRIBUTES', \n",
    "                'SNWD', 'SNWD_ATTRIBUTES', 'TSUN', 'TSUN_ATTRIBUTES', 'WDF2', 'WDF2_ATTRIBUTES', 'WDF5', \n",
    "                'WDF5_ATTRIBUTES', 'WSF2', 'WSF2_ATTRIBUTES', 'WSF5', 'WSF5_ATTRIBUTES', 'WT01', 'WT01_ATTRIBUTES', \n",
    "                'WT02', 'WT02_ATTRIBUTES', 'WT03', 'WT03_ATTRIBUTES', 'WT06', 'WT06_ATTRIBUTES', 'WT08', \n",
    "                'WT08_ATTRIBUTES', 'TAVG', 'TAVG_ATTRIBUTES', 'PRCP_ATTRIBUTES', 'TMAX_ATTRIBUTES', 'TMIN_ATTRIBUTES']\n",
    "\n",
    "weather_1 = weather_0.drop(labels=cols_to_drop, axis=1)\n",
    "print(weather_1.shape)\n",
    "# weather_1.tail()"
   ]
  },
  {
   "cell_type": "markdown",
   "metadata": {},
   "source": [
    "#### Rename & Reorder Columns\n",
    "- add day of year\n",
    "- add cumulative precipitation\n",
    "- add average temp"
   ]
  },
  {
   "cell_type": "code",
   "execution_count": 17,
   "metadata": {},
   "outputs": [],
   "source": [
    "days_of_year = list(range(1,366))\n",
    "cum_precip = list(np.cumsum(weather_1['PRCP']))"
   ]
  },
  {
   "cell_type": "code",
   "execution_count": 18,
   "metadata": {},
   "outputs": [],
   "source": [
    "cum_precip_rounded = [round(p, 2) for p in cum_precip]\n",
    "# cum_precip_rounded"
   ]
  },
  {
   "cell_type": "code",
   "execution_count": 19,
   "metadata": {},
   "outputs": [],
   "source": [
    "avg_temps = weather_1[['TMIN', 'TMAX']].mean(axis=1)\n",
    "# avg_temps"
   ]
  },
  {
   "cell_type": "code",
   "execution_count": 20,
   "metadata": {},
   "outputs": [],
   "source": [
    "avg_temps_rounded = [round(t, 2) for t in avg_temps]\n",
    "# avg_temps_rounded"
   ]
  },
  {
   "cell_type": "code",
   "execution_count": 21,
   "metadata": {},
   "outputs": [
    {
     "name": "stdout",
     "output_type": "stream",
     "text": [
      "(365, 11)\n"
     ]
    }
   ],
   "source": [
    "weather_2 = pd.DataFrame(data={'date': weather_1['DATE'].values, 'day_of_year': days_of_year, \n",
    "                               'location': weather_1['NAME'].values, 'lat': weather_1['LATITUDE'].values, \n",
    "                               'lon': weather_1['LONGITUDE'].values, 'elevation_meters': weather_1['ELEVATION'].values, \n",
    "                               'temp_max': weather_1['TMAX'].values, 'temp_min': weather_1['TMIN'].values,\n",
    "                               'temp_avg': avg_temps_rounded, 'precip_mm': weather_1['PRCP'].values, \n",
    "                               'precip_cum': cum_precip_rounded})\n",
    "\n",
    "print(weather_2.shape)\n",
    "# weather_2.head()"
   ]
  },
  {
   "cell_type": "markdown",
   "metadata": {},
   "source": [
    "### A. Days & GDD to Flowering\n",
    "- planting date: 2014-05-06"
   ]
  },
  {
   "cell_type": "code",
   "execution_count": 22,
   "metadata": {},
   "outputs": [
    {
     "data": {
      "text/plain": [
       "array(['flowering_time', 'plant_height', 'aboveground_dry_biomass'],\n",
       "      dtype=object)"
      ]
     },
     "execution_count": 22,
     "metadata": {},
     "output_type": "execute_result"
    }
   ],
   "source": [
    "df_5.trait.unique()"
   ]
  },
  {
   "cell_type": "code",
   "execution_count": 23,
   "metadata": {},
   "outputs": [
    {
     "name": "stdout",
     "output_type": "stream",
     "text": [
      "(168, 13)\n"
     ]
    }
   ],
   "source": [
    "fl_0 = df_5.loc[df_5.trait == 'flowering_time']\n",
    "print(fl_0.shape)\n",
    "# fl_0.head()"
   ]
  },
  {
   "cell_type": "markdown",
   "metadata": {},
   "source": [
    "#### Add planting date"
   ]
  },
  {
   "cell_type": "code",
   "execution_count": 24,
   "metadata": {},
   "outputs": [
    {
     "name": "stdout",
     "output_type": "stream",
     "text": [
      "(168, 14)\n"
     ]
    }
   ],
   "source": [
    "day_of_planting = datetime.date(2014,5,6)\n",
    "fl_1 = fl_0.copy()\n",
    "\n",
    "fl_1['date_of_planting'] = day_of_planting\n",
    "print(fl_1.shape)\n",
    "# fl_1.head(5)"
   ]
  },
  {
   "cell_type": "markdown",
   "metadata": {},
   "source": [
    "#### Create timedelta using days to flowering"
   ]
  },
  {
   "cell_type": "code",
   "execution_count": 25,
   "metadata": {},
   "outputs": [
    {
     "name": "stdout",
     "output_type": "stream",
     "text": [
      "168\n",
      "168\n"
     ]
    }
   ],
   "source": [
    "timedelta_values = fl_1['value'].values\n",
    "dates_of_flowering = []\n",
    "\n",
    "for val in timedelta_values:\n",
    "    \n",
    "    date_of_flowering = day_of_planting + datetime.timedelta(days=val)\n",
    "    dates_of_flowering.append(date_of_flowering)\n",
    "    \n",
    "print(fl_1.shape[0])\n",
    "print(len(dates_of_flowering))"
   ]
  },
  {
   "cell_type": "code",
   "execution_count": 26,
   "metadata": {},
   "outputs": [
    {
     "name": "stdout",
     "output_type": "stream",
     "text": [
      "(168, 15)\n"
     ]
    }
   ],
   "source": [
    "fl_2 = fl_1.copy()\n",
    "fl_2['date_of_flowering'] = dates_of_flowering\n",
    "print(fl_2.shape)\n",
    "# fl_2.tail()"
   ]
  },
  {
   "cell_type": "markdown",
   "metadata": {},
   "source": [
    "#### Merge temperature data from weather dataframe with flowering dataframe"
   ]
  },
  {
   "cell_type": "code",
   "execution_count": 27,
   "metadata": {},
   "outputs": [
    {
     "name": "stdout",
     "output_type": "stream",
     "text": [
      "(365, 4)\n"
     ]
    }
   ],
   "source": [
    "temp_df = weather_2[['date', 'day_of_year', 'temp_max', 'temp_min']]\n",
    "print(temp_df.shape)\n",
    "# temp_df.head()"
   ]
  },
  {
   "cell_type": "markdown",
   "metadata": {},
   "source": [
    "#### Add GDD to weather df for seasonal dates"
   ]
  },
  {
   "cell_type": "code",
   "execution_count": 28,
   "metadata": {},
   "outputs": [
    {
     "name": "stdout",
     "output_type": "stream",
     "text": [
      "(240, 4)\n"
     ]
    }
   ],
   "source": [
    "temp_df_1 = temp_df.loc[temp_df['date'] >= '2014-05-06']\n",
    "print(temp_df_1.shape)\n",
    "# temp_df_1.head()"
   ]
  },
  {
   "cell_type": "code",
   "execution_count": 29,
   "metadata": {},
   "outputs": [
    {
     "name": "stdout",
     "output_type": "stream",
     "text": [
      "(240, 5)\n"
     ]
    }
   ],
   "source": [
    "temp_df_2 = temp_df_1.copy()\n",
    "temp_df_2['daily_gdd'] = (((temp_df_2['temp_max'] + temp_df_2['temp_min'])) / 2) - 10\n",
    "print(temp_df_2.shape)\n",
    "# temp_df_2.head(10)"
   ]
  },
  {
   "cell_type": "code",
   "execution_count": 30,
   "metadata": {},
   "outputs": [],
   "source": [
    "# Check for negative daily gdd values\n",
    "\n",
    "# temp_df_2.loc[temp_df_2.daily_gdd < 0]"
   ]
  },
  {
   "cell_type": "code",
   "execution_count": 31,
   "metadata": {},
   "outputs": [
    {
     "name": "stderr",
     "output_type": "stream",
     "text": [
      "<ipython-input-31-7bfeda10d11b>:8: SettingWithCopyWarning: \n",
      "A value is trying to be set on a copy of a slice from a DataFrame\n",
      "\n",
      "See the caveats in the documentation: https://pandas.pydata.org/pandas-docs/stable/user_guide/indexing.html#returning-a-view-versus-a-copy\n",
      "  v[v < 0] = 0\n"
     ]
    }
   ],
   "source": [
    "# Change all negative values to 0\n",
    "\n",
    "temp_df_3 = temp_df_2.copy()\n",
    "\n",
    "for k,v in temp_df_2.iteritems():\n",
    "    \n",
    "    if k == 'daily_gdd':\n",
    "        v[v < 0] = 0"
   ]
  },
  {
   "cell_type": "code",
   "execution_count": 32,
   "metadata": {},
   "outputs": [
    {
     "data": {
      "text/html": [
       "<div>\n",
       "<style scoped>\n",
       "    .dataframe tbody tr th:only-of-type {\n",
       "        vertical-align: middle;\n",
       "    }\n",
       "\n",
       "    .dataframe tbody tr th {\n",
       "        vertical-align: top;\n",
       "    }\n",
       "\n",
       "    .dataframe thead th {\n",
       "        text-align: right;\n",
       "    }\n",
       "</style>\n",
       "<table border=\"1\" class=\"dataframe\">\n",
       "  <thead>\n",
       "    <tr style=\"text-align: right;\">\n",
       "      <th></th>\n",
       "      <th>date</th>\n",
       "      <th>day_of_year</th>\n",
       "      <th>temp_max</th>\n",
       "      <th>temp_min</th>\n",
       "      <th>daily_gdd</th>\n",
       "    </tr>\n",
       "  </thead>\n",
       "  <tbody>\n",
       "  </tbody>\n",
       "</table>\n",
       "</div>"
      ],
      "text/plain": [
       "Empty DataFrame\n",
       "Columns: [date, day_of_year, temp_max, temp_min, daily_gdd]\n",
       "Index: []"
      ]
     },
     "execution_count": 32,
     "metadata": {},
     "output_type": "execute_result"
    }
   ],
   "source": [
    "# Should return empty df now\n",
    "\n",
    "temp_df_3.loc[temp_df_2.daily_gdd < 0]"
   ]
  },
  {
   "cell_type": "code",
   "execution_count": 33,
   "metadata": {},
   "outputs": [],
   "source": [
    "# compare to df with negative values\n",
    "\n",
    "# temp_df_3.loc[temp_df_2.daily_gdd == 0]"
   ]
  },
  {
   "cell_type": "code",
   "execution_count": 34,
   "metadata": {},
   "outputs": [
    {
     "name": "stdout",
     "output_type": "stream",
     "text": [
      "(240, 6)\n"
     ]
    }
   ],
   "source": [
    "temp_df_4 = temp_df_3.copy()\n",
    "temp_df_4['gdd'] = np.rint(np.cumsum(temp_df_4['daily_gdd']))\n",
    "print(temp_df_4.shape)\n",
    "# temp_df_4.head()"
   ]
  },
  {
   "cell_type": "code",
   "execution_count": 35,
   "metadata": {},
   "outputs": [
    {
     "name": "stdout",
     "output_type": "stream",
     "text": [
      "(240, 2)\n"
     ]
    }
   ],
   "source": [
    "temp_df_5 = temp_df_4[['date', 'gdd']]\n",
    "print(temp_df_5.shape)\n",
    "# temp_df_5.head()"
   ]
  },
  {
   "cell_type": "markdown",
   "metadata": {},
   "source": [
    "#### Convert dates to datetime objects\n",
    "- date of flowering\n",
    "- date in the weather df"
   ]
  },
  {
   "cell_type": "code",
   "execution_count": 36,
   "metadata": {},
   "outputs": [],
   "source": [
    "fl_3 = fl_2.copy()\n",
    "fl_3.date_of_flowering = pd.to_datetime(fl_3.date_of_flowering)\n",
    "# fl_3.dtypes"
   ]
  },
  {
   "cell_type": "code",
   "execution_count": 37,
   "metadata": {},
   "outputs": [],
   "source": [
    "temp_df_6 = temp_df_5.copy()\n",
    "temp_df_6.date = pd.to_datetime(temp_df_6.date)"
   ]
  },
  {
   "cell_type": "code",
   "execution_count": 38,
   "metadata": {},
   "outputs": [
    {
     "data": {
      "text/plain": [
       "date    datetime64[ns]\n",
       "gdd            float64\n",
       "dtype: object"
      ]
     },
     "execution_count": 38,
     "metadata": {},
     "output_type": "execute_result"
    }
   ],
   "source": [
    "temp_df_6.dtypes"
   ]
  },
  {
   "cell_type": "code",
   "execution_count": 39,
   "metadata": {},
   "outputs": [
    {
     "name": "stdout",
     "output_type": "stream",
     "text": [
      "(168, 17)\n"
     ]
    }
   ],
   "source": [
    "fl_4 = fl_3.merge(temp_df_6, how='left', left_on='date_of_flowering', right_on='date')\n",
    "print(fl_4.shape)\n",
    "# fl_4.tail()"
   ]
  },
  {
   "cell_type": "markdown",
   "metadata": {},
   "source": [
    "#### Rename & Drop Columns"
   ]
  },
  {
   "cell_type": "code",
   "execution_count": 40,
   "metadata": {},
   "outputs": [
    {
     "data": {
      "text/plain": [
       "Index(['sitename', 'city', 'lat', 'lon', 'scientificname', 'author',\n",
       "       'citation_year', 'trait', 'trait_description', 'value', 'units',\n",
       "       'cultivar', 'date_x', 'date_of_planting', 'date_of_flowering', 'date_y',\n",
       "       'gdd'],\n",
       "      dtype='object')"
      ]
     },
     "execution_count": 40,
     "metadata": {},
     "output_type": "execute_result"
    }
   ],
   "source": [
    "fl_4.columns"
   ]
  },
  {
   "cell_type": "code",
   "execution_count": 41,
   "metadata": {},
   "outputs": [
    {
     "name": "stdout",
     "output_type": "stream",
     "text": [
      "(168, 10)\n"
     ]
    }
   ],
   "source": [
    "cols_to_drop = ['author', 'citation_year', 'trait', 'units', 'date_of_planting', 'date_x', 'date_y']\n",
    "\n",
    "fl_5 = fl_4.drop(labels=cols_to_drop, axis=1)\n",
    "print(fl_5.shape)\n",
    "# fl_5.head()"
   ]
  },
  {
   "cell_type": "code",
   "execution_count": 42,
   "metadata": {},
   "outputs": [
    {
     "name": "stdout",
     "output_type": "stream",
     "text": [
      "(168, 10)\n"
     ]
    }
   ],
   "source": [
    "fl_6 = fl_5.rename({'value': 'days_to_flowering', 'gdd': 'gdd_to_flowering'}, axis=1)\n",
    "print(fl_6.shape)\n",
    "# fl_6.head()"
   ]
  },
  {
   "cell_type": "code",
   "execution_count": 43,
   "metadata": {},
   "outputs": [],
   "source": [
    "# fl_6.columns"
   ]
  },
  {
   "cell_type": "code",
   "execution_count": 44,
   "metadata": {},
   "outputs": [
    {
     "name": "stdout",
     "output_type": "stream",
     "text": [
      "(168, 10)\n"
     ]
    }
   ],
   "source": [
    "new_col_order = ['sitename', 'city', 'lat', 'lon', 'scientificname', 'trait_description', 'cultivar', \n",
    "                 'days_to_flowering', 'gdd_to_flowering', 'date_of_flowering']\n",
    "\n",
    "fl_7 = pd.DataFrame(data=fl_6, columns=new_col_order)\n",
    "print(fl_7.shape)\n",
    "fl_7.head(3)"
   ]
  },
  {
   "cell_type": "markdown",
   "metadata": {},
   "source": [
    "#### Write days to flowering df to `.csv`"
   ]
  },
  {
   "cell_type": "code",
   "execution_count": 45,
   "metadata": {},
   "outputs": [],
   "source": [
    "timestamp = datetime.datetime.now().replace(microsecond=0).isoformat()\n",
    "output_filename = f'data/processed/clemson_days_to_flowering_{timestamp}.csv'.replace(':', '')\n",
    "\n",
    "fl_7.to_csv(output_filename, index=False)"
   ]
  },
  {
   "cell_type": "code",
   "execution_count": null,
   "metadata": {},
   "outputs": [],
   "source": []
  },
  {
   "cell_type": "markdown",
   "metadata": {},
   "source": [
    "### B. Plant Height"
   ]
  },
  {
   "cell_type": "code",
   "execution_count": 46,
   "metadata": {},
   "outputs": [],
   "source": [
    "# df_5.trait.unique()"
   ]
  },
  {
   "cell_type": "code",
   "execution_count": 47,
   "metadata": {},
   "outputs": [
    {
     "name": "stdout",
     "output_type": "stream",
     "text": [
      "(381, 13)\n"
     ]
    }
   ],
   "source": [
    "ph_0 = df_5.loc[df_5.trait == 'plant_height']\n",
    "print(ph_0.shape)\n",
    "# ph_0.head()"
   ]
  },
  {
   "cell_type": "markdown",
   "metadata": {},
   "source": [
    "#### Rename, Drop, & Reorder Columns"
   ]
  },
  {
   "cell_type": "code",
   "execution_count": 48,
   "metadata": {},
   "outputs": [],
   "source": [
    "ph_1 = ph_0.rename({'value': 'plant_height_cm'}, axis=1)\n",
    "# ph_1.tail()"
   ]
  },
  {
   "cell_type": "code",
   "execution_count": 49,
   "metadata": {},
   "outputs": [
    {
     "name": "stdout",
     "output_type": "stream",
     "text": [
      "(381, 9)\n"
     ]
    }
   ],
   "source": [
    "cols_to_drop = ['author', 'citation_year', 'trait', 'units']\n",
    "\n",
    "ph_2 = ph_1.drop(labels=cols_to_drop, axis=1)\n",
    "print(ph_2.shape)\n",
    "# ph_2.head()"
   ]
  },
  {
   "cell_type": "code",
   "execution_count": 50,
   "metadata": {},
   "outputs": [
    {
     "name": "stdout",
     "output_type": "stream",
     "text": [
      "(381, 9)\n"
     ]
    }
   ],
   "source": [
    "new_col_order = ['sitename', 'city', 'lat', 'lon', 'scientificname', 'trait_description', 'cultivar', \n",
    "                'plant_height_cm', 'date']\n",
    "\n",
    "ph_3 = pd.DataFrame(data=ph_2, columns=new_col_order)\n",
    "print(ph_3.shape)\n",
    "# ph_3.head()"
   ]
  },
  {
   "cell_type": "code",
   "execution_count": 51,
   "metadata": {},
   "outputs": [],
   "source": [
    "ph_4 = ph_3.set_index(keys=['date'])\n",
    "# ph_4.tail()"
   ]
  },
  {
   "cell_type": "code",
   "execution_count": 52,
   "metadata": {},
   "outputs": [
    {
     "name": "stdout",
     "output_type": "stream",
     "text": [
      "(381, 8)\n"
     ]
    },
    {
     "data": {
      "text/html": [
       "<div>\n",
       "<style scoped>\n",
       "    .dataframe tbody tr th:only-of-type {\n",
       "        vertical-align: middle;\n",
       "    }\n",
       "\n",
       "    .dataframe tbody tr th {\n",
       "        vertical-align: top;\n",
       "    }\n",
       "\n",
       "    .dataframe thead th {\n",
       "        text-align: right;\n",
       "    }\n",
       "</style>\n",
       "<table border=\"1\" class=\"dataframe\">\n",
       "  <thead>\n",
       "    <tr style=\"text-align: right;\">\n",
       "      <th></th>\n",
       "      <th>sitename</th>\n",
       "      <th>city</th>\n",
       "      <th>lat</th>\n",
       "      <th>lon</th>\n",
       "      <th>scientificname</th>\n",
       "      <th>trait_description</th>\n",
       "      <th>cultivar</th>\n",
       "      <th>plant_height_cm</th>\n",
       "    </tr>\n",
       "    <tr>\n",
       "      <th>date</th>\n",
       "      <th></th>\n",
       "      <th></th>\n",
       "      <th></th>\n",
       "      <th></th>\n",
       "      <th></th>\n",
       "      <th></th>\n",
       "      <th></th>\n",
       "      <th></th>\n",
       "    </tr>\n",
       "  </thead>\n",
       "  <tbody>\n",
       "    <tr>\n",
       "      <th>2014-08-17 19:00:00-05:00</th>\n",
       "      <td>Clemson University Pee Dee Research and Educat...</td>\n",
       "      <td>Florence</td>\n",
       "      <td>34.289</td>\n",
       "      <td>-79.737</td>\n",
       "      <td>Sorghum bicolor</td>\n",
       "      <td>Maximum vertical height from the base of the p...</td>\n",
       "      <td>PI535783</td>\n",
       "      <td>187.0</td>\n",
       "    </tr>\n",
       "    <tr>\n",
       "      <th>2014-08-17 19:00:00-05:00</th>\n",
       "      <td>Clemson University Pee Dee Research and Educat...</td>\n",
       "      <td>Florence</td>\n",
       "      <td>34.289</td>\n",
       "      <td>-79.737</td>\n",
       "      <td>Sorghum bicolor</td>\n",
       "      <td>Maximum vertical height from the base of the p...</td>\n",
       "      <td>PI533902</td>\n",
       "      <td>163.0</td>\n",
       "    </tr>\n",
       "    <tr>\n",
       "      <th>2014-08-17 19:00:00-05:00</th>\n",
       "      <td>Clemson University Pee Dee Research and Educat...</td>\n",
       "      <td>Florence</td>\n",
       "      <td>34.289</td>\n",
       "      <td>-79.737</td>\n",
       "      <td>Sorghum bicolor</td>\n",
       "      <td>Maximum vertical height from the base of the p...</td>\n",
       "      <td>PI92270</td>\n",
       "      <td>195.0</td>\n",
       "    </tr>\n",
       "  </tbody>\n",
       "</table>\n",
       "</div>"
      ],
      "text/plain": [
       "                                                                    sitename  \\\n",
       "date                                                                           \n",
       "2014-08-17 19:00:00-05:00  Clemson University Pee Dee Research and Educat...   \n",
       "2014-08-17 19:00:00-05:00  Clemson University Pee Dee Research and Educat...   \n",
       "2014-08-17 19:00:00-05:00  Clemson University Pee Dee Research and Educat...   \n",
       "\n",
       "                               city     lat     lon   scientificname  \\\n",
       "date                                                                   \n",
       "2014-08-17 19:00:00-05:00  Florence  34.289 -79.737  Sorghum bicolor   \n",
       "2014-08-17 19:00:00-05:00  Florence  34.289 -79.737  Sorghum bicolor   \n",
       "2014-08-17 19:00:00-05:00  Florence  34.289 -79.737  Sorghum bicolor   \n",
       "\n",
       "                                                           trait_description  \\\n",
       "date                                                                           \n",
       "2014-08-17 19:00:00-05:00  Maximum vertical height from the base of the p...   \n",
       "2014-08-17 19:00:00-05:00  Maximum vertical height from the base of the p...   \n",
       "2014-08-17 19:00:00-05:00  Maximum vertical height from the base of the p...   \n",
       "\n",
       "                           cultivar  plant_height_cm  \n",
       "date                                                  \n",
       "2014-08-17 19:00:00-05:00  PI535783            187.0  \n",
       "2014-08-17 19:00:00-05:00  PI533902            163.0  \n",
       "2014-08-17 19:00:00-05:00   PI92270            195.0  "
      ]
     },
     "execution_count": 52,
     "metadata": {},
     "output_type": "execute_result"
    }
   ],
   "source": [
    "# sort index ascending\n",
    "\n",
    "ph_5 = ph_4.sort_index()\n",
    "print(ph_5.shape)\n",
    "ph_5.head(3)"
   ]
  },
  {
   "cell_type": "markdown",
   "metadata": {},
   "source": [
    "#### Write canopy heights to `.csv`"
   ]
  },
  {
   "cell_type": "code",
   "execution_count": 53,
   "metadata": {},
   "outputs": [],
   "source": [
    "timestamp = datetime.datetime.now().replace(microsecond=0).isoformat()\n",
    "output_filename = f'data/processed/clemson_canopy_heights_{timestamp}.csv'.replace(':', '')\n",
    "\n",
    "ph_5.to_csv(output_filename, index=True, index_label='date')"
   ]
  },
  {
   "cell_type": "code",
   "execution_count": null,
   "metadata": {},
   "outputs": [],
   "source": []
  },
  {
   "cell_type": "markdown",
   "metadata": {},
   "source": [
    "### C. Aboveground dry biomass"
   ]
  },
  {
   "cell_type": "code",
   "execution_count": 54,
   "metadata": {},
   "outputs": [
    {
     "name": "stdout",
     "output_type": "stream",
     "text": [
      "(382, 13)\n"
     ]
    }
   ],
   "source": [
    "adb_0 = df_5.loc[df_5.trait == 'aboveground_dry_biomass']\n",
    "print(adb_0.shape)\n",
    "# adb_0.head()"
   ]
  },
  {
   "cell_type": "markdown",
   "metadata": {},
   "source": [
    "#### Rename, Drop, & Reorder Columns"
   ]
  },
  {
   "cell_type": "code",
   "execution_count": 55,
   "metadata": {},
   "outputs": [],
   "source": [
    "adb_1 = adb_0.rename({'value': 'aboveground_dry_biomass'}, axis=1)\n",
    "# adb_1.tail()"
   ]
  },
  {
   "cell_type": "code",
   "execution_count": 56,
   "metadata": {},
   "outputs": [
    {
     "name": "stdout",
     "output_type": "stream",
     "text": [
      "(382, 9)\n"
     ]
    }
   ],
   "source": [
    "cols_to_drop = ['author', 'citation_year', 'trait', 'trait_description']\n",
    "\n",
    "adb_2 = adb_1.drop(labels=cols_to_drop, axis=1)\n",
    "print(adb_2.shape)\n",
    "# adb_2.head()"
   ]
  },
  {
   "cell_type": "code",
   "execution_count": 57,
   "metadata": {},
   "outputs": [
    {
     "name": "stdout",
     "output_type": "stream",
     "text": [
      "(382, 9)\n"
     ]
    }
   ],
   "source": [
    "new_col_order = ['date', 'sitename', 'city', 'lat', 'lon', 'scientificname', 'cultivar', \n",
    "                'aboveground_dry_biomass', 'units']\n",
    "\n",
    "adb_3 = pd.DataFrame(data=adb_2, columns=new_col_order)\n",
    "print(adb_3.shape)\n",
    "# adb_3.head()"
   ]
  },
  {
   "cell_type": "code",
   "execution_count": 58,
   "metadata": {},
   "outputs": [
    {
     "data": {
      "text/html": [
       "<div>\n",
       "<style scoped>\n",
       "    .dataframe tbody tr th:only-of-type {\n",
       "        vertical-align: middle;\n",
       "    }\n",
       "\n",
       "    .dataframe tbody tr th {\n",
       "        vertical-align: top;\n",
       "    }\n",
       "\n",
       "    .dataframe thead th {\n",
       "        text-align: right;\n",
       "    }\n",
       "</style>\n",
       "<table border=\"1\" class=\"dataframe\">\n",
       "  <thead>\n",
       "    <tr style=\"text-align: right;\">\n",
       "      <th></th>\n",
       "      <th>sitename</th>\n",
       "      <th>city</th>\n",
       "      <th>lat</th>\n",
       "      <th>lon</th>\n",
       "      <th>scientificname</th>\n",
       "      <th>cultivar</th>\n",
       "      <th>aboveground_dry_biomass</th>\n",
       "      <th>units</th>\n",
       "    </tr>\n",
       "    <tr>\n",
       "      <th>date</th>\n",
       "      <th></th>\n",
       "      <th></th>\n",
       "      <th></th>\n",
       "      <th></th>\n",
       "      <th></th>\n",
       "      <th></th>\n",
       "      <th></th>\n",
       "      <th></th>\n",
       "    </tr>\n",
       "  </thead>\n",
       "  <tbody>\n",
       "    <tr>\n",
       "      <th>2014-10-05 19:00:00-05:00</th>\n",
       "      <td>Clemson University Pee Dee Research and Educat...</td>\n",
       "      <td>Florence</td>\n",
       "      <td>34.289</td>\n",
       "      <td>-79.737</td>\n",
       "      <td>Sorghum bicolor</td>\n",
       "      <td>PI453696</td>\n",
       "      <td>90700.0</td>\n",
       "      <td>kg / ha</td>\n",
       "    </tr>\n",
       "    <tr>\n",
       "      <th>2014-10-10 19:00:00-05:00</th>\n",
       "      <td>Clemson University Pee Dee Research and Educat...</td>\n",
       "      <td>Florence</td>\n",
       "      <td>34.289</td>\n",
       "      <td>-79.737</td>\n",
       "      <td>Sorghum bicolor</td>\n",
       "      <td>PI330182</td>\n",
       "      <td>103000.0</td>\n",
       "      <td>kg / ha</td>\n",
       "    </tr>\n",
       "    <tr>\n",
       "      <th>2014-10-15 19:00:00-05:00</th>\n",
       "      <td>Clemson University Pee Dee Research and Educat...</td>\n",
       "      <td>Florence</td>\n",
       "      <td>34.289</td>\n",
       "      <td>-79.737</td>\n",
       "      <td>Sorghum bicolor</td>\n",
       "      <td>PI330181</td>\n",
       "      <td>125000.0</td>\n",
       "      <td>kg / ha</td>\n",
       "    </tr>\n",
       "  </tbody>\n",
       "</table>\n",
       "</div>"
      ],
      "text/plain": [
       "                                                                    sitename  \\\n",
       "date                                                                           \n",
       "2014-10-05 19:00:00-05:00  Clemson University Pee Dee Research and Educat...   \n",
       "2014-10-10 19:00:00-05:00  Clemson University Pee Dee Research and Educat...   \n",
       "2014-10-15 19:00:00-05:00  Clemson University Pee Dee Research and Educat...   \n",
       "\n",
       "                               city     lat     lon   scientificname  \\\n",
       "date                                                                   \n",
       "2014-10-05 19:00:00-05:00  Florence  34.289 -79.737  Sorghum bicolor   \n",
       "2014-10-10 19:00:00-05:00  Florence  34.289 -79.737  Sorghum bicolor   \n",
       "2014-10-15 19:00:00-05:00  Florence  34.289 -79.737  Sorghum bicolor   \n",
       "\n",
       "                           cultivar  aboveground_dry_biomass    units  \n",
       "date                                                                   \n",
       "2014-10-05 19:00:00-05:00  PI453696                  90700.0  kg / ha  \n",
       "2014-10-10 19:00:00-05:00  PI330182                 103000.0  kg / ha  \n",
       "2014-10-15 19:00:00-05:00  PI330181                 125000.0  kg / ha  "
      ]
     },
     "execution_count": 58,
     "metadata": {},
     "output_type": "execute_result"
    }
   ],
   "source": [
    "adb_4 = adb_3.set_index(keys=['date'])\n",
    "adb_4.tail(3)"
   ]
  },
  {
   "cell_type": "markdown",
   "metadata": {},
   "source": [
    "#### Write aboveground dry biomass df to `.csv`"
   ]
  },
  {
   "cell_type": "code",
   "execution_count": 59,
   "metadata": {},
   "outputs": [],
   "source": [
    "timestamp = datetime.datetime.now().replace(microsecond=0).isoformat()\n",
    "output_filename = f'data/processed/clemson_aboveground_dry_biomass_{timestamp}.csv'.replace(':', '')\n",
    "\n",
    "adb_4.to_csv(output_filename, index=True)"
   ]
  },
  {
   "cell_type": "code",
   "execution_count": null,
   "metadata": {},
   "outputs": [],
   "source": []
  }
 ],
 "metadata": {
  "kernelspec": {
   "display_name": "jupyter-data-cleaning",
   "language": "python",
   "name": "jupyter-data-cleaning"
  },
  "language_info": {
   "codemirror_mode": {
    "name": "ipython",
    "version": 3
   },
   "file_extension": ".py",
   "mimetype": "text/x-python",
   "name": "python",
   "nbconvert_exporter": "python",
   "pygments_lexer": "ipython3",
   "version": "3.8.2"
  }
 },
 "nbformat": 4,
 "nbformat_minor": 2
}
