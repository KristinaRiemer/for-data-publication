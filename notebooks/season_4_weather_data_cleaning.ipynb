{
 "cells": [
  {
   "cell_type": "markdown",
   "metadata": {},
   "source": [
    "### MAC Season 4 Weather Data\n",
    "- This notebook contains the code used to process raw weather station data from Maricopa Agricultural Center\n",
    "- Data modified or added\n",
    "    - sliced for season 4 dates only\n",
    "    - added dates\n",
    "    - added cumulative growing degree days\n",
    "    - added cumulative precipitation\n",
    "    - added First and Second drought treatment boolean columns\n",
    "        - `True` or `False` for dates that received first treatment\n",
    "        - `True` or `False` for dates that received second treatment"
   ]
  },
  {
   "cell_type": "code",
   "execution_count": null,
   "metadata": {},
   "outputs": [],
   "source": [
    "import datetime\n",
    "import numpy as np\n",
    "import pandas as pd"
   ]
  },
  {
   "cell_type": "code",
   "execution_count": null,
   "metadata": {},
   "outputs": [],
   "source": [
    "# Read in season 4 weather data from MAC weather station\n",
    "\n",
    "weather_df_0 = pd.read_csv('data/raw/mac/mac_weather_station_raw_daily_2017.csv')\n",
    "# print(weather_df_0.shape)\n",
    "# weather_df_0.head(3)"
   ]
  },
  {
   "cell_type": "markdown",
   "metadata": {},
   "source": [
    "#### Slice dataframe for season dates only and add date column\n",
    "\n",
    "- Planting Date: 2017-04-20, Day 110\n",
    "- Last Day of Harvest: 2017-09-16, Day 259"
   ]
  },
  {
   "cell_type": "code",
   "execution_count": null,
   "metadata": {},
   "outputs": [],
   "source": [
    "weather_df_1 = weather_df_0.loc[(weather_df_0.day_of_year >= 110) & (weather_df_0.day_of_year <= 259)]\n",
    "# print(weather_df_1.shape)\n",
    "# weather_df_1.head(3)"
   ]
  },
  {
   "cell_type": "code",
   "execution_count": null,
   "metadata": {},
   "outputs": [],
   "source": [
    "season_4_date_range = pd.date_range(start='2017-04-20', end='2017-09-16')"
   ]
  },
  {
   "cell_type": "code",
   "execution_count": null,
   "metadata": {},
   "outputs": [],
   "source": [
    "weather_df_2 = weather_df_1.copy()\n",
    "weather_df_2['date'] = season_4_date_range\n",
    "# print(weather_df_2.shape)\n",
    "# weather_df_2.tail(3)"
   ]
  },
  {
   "cell_type": "markdown",
   "metadata": {},
   "source": [
    "#### Add Growing Degree Days\n",
    "- 10 degrees Celsius is base temp for sorghum\n",
    "- Daily gdd value = ((max temp + min temp) / 2) - 10 (base temp)\n",
    "- Growing Degree Days = cumulative sum of daily gdd values\n",
    "- Negative values convert to 0"
   ]
  },
  {
   "cell_type": "code",
   "execution_count": null,
   "metadata": {},
   "outputs": [],
   "source": [
    "weather_df_3 = weather_df_2.copy()\n",
    "weather_df_3['daily_gdd'] = (((weather_df_3['air_temp_max'] + weather_df_3['air_temp_min'])) / 2) - 10\n",
    "# print(weather_df_3.shape)\n",
    "# weather_df_3.head(3)"
   ]
  },
  {
   "cell_type": "code",
   "execution_count": null,
   "metadata": {},
   "outputs": [],
   "source": [
    "# Check for negative values - will return empty df if there are none\n",
    "\n",
    "weather_df_3.loc[weather_df_3.daily_gdd < 0]"
   ]
  },
  {
   "cell_type": "code",
   "execution_count": null,
   "metadata": {},
   "outputs": [],
   "source": [
    "weather_df_4 = weather_df_3.copy()\n",
    "weather_df_4['gdd'] = np.rint(np.cumsum(weather_df_4['daily_gdd']))\n",
    "# print(weather_df_4.shape)\n",
    "# weather_df_4.tail(3)"
   ]
  },
  {
   "cell_type": "code",
   "execution_count": null,
   "metadata": {},
   "outputs": [],
   "source": [
    "# Drop daily gdd value, keep only cumulative gdd values\n",
    "\n",
    "weather_df_5 = weather_df_4.drop(labels='daily_gdd', axis=1)\n",
    "# print(weather_df_5.shape)\n",
    "# weather_df_5.tail()"
   ]
  },
  {
   "cell_type": "code",
   "execution_count": null,
   "metadata": {},
   "outputs": [],
   "source": [
    "weather_df_6 = weather_df_5.copy()\n",
    "weather_df_6['cum_precip'] = np.round(np.cumsum(weather_df_6.precip_total), 2)\n",
    "# weather_df_6.head(3)"
   ]
  },
  {
   "cell_type": "markdown",
   "metadata": {},
   "source": [
    "#### Add columns for water-deficit stress treatment \n",
    "- First water-deficit stress treatment: 2017-08-01 through 2017-08-14\n",
    "- Second water-deficit stress treatment: 2017-08-15 through 2017-08-30"
   ]
  },
  {
   "cell_type": "code",
   "execution_count": null,
   "metadata": {},
   "outputs": [],
   "source": [
    "first_treatment_dates = pd.date_range(start='2017-08-01', end='2017-08-14')\n",
    "second_treatment_dates = pd.date_range(start='2017-08-15', end='2017-08-30')"
   ]
  },
  {
   "cell_type": "code",
   "execution_count": null,
   "metadata": {},
   "outputs": [],
   "source": [
    "season_dates = weather_df_6.date.values"
   ]
  },
  {
   "cell_type": "code",
   "execution_count": null,
   "metadata": {},
   "outputs": [],
   "source": [
    "# If a date falls within a treatment date range, it will have a value of True in the water deficit columns\n",
    "# False values indicate regular irrigation on that date\n",
    "\n",
    "first_treatment_col = []\n",
    "\n",
    "\n",
    "for d in season_dates:\n",
    "    \n",
    "    if d in first_treatment_dates:\n",
    "        \n",
    "        first_treatment_col.append(True)\n",
    "        \n",
    "    else: \n",
    "        \n",
    "        first_treatment_col.append(False)\n",
    "        \n",
    "# print(len(first_treatment_col))"
   ]
  },
  {
   "cell_type": "code",
   "execution_count": null,
   "metadata": {},
   "outputs": [],
   "source": [
    "second_treatment_col = []\n",
    "\n",
    "for d in season_dates:\n",
    "    \n",
    "    if d in second_treatment_dates:\n",
    "        \n",
    "        second_treatment_col.append(True)\n",
    "        \n",
    "    else:\n",
    "        \n",
    "        second_treatment_col.append(False)"
   ]
  },
  {
   "cell_type": "code",
   "execution_count": null,
   "metadata": {},
   "outputs": [],
   "source": [
    "weather_df_7 = weather_df_6.copy()\n",
    "\n",
    "weather_df_7['first_water_deficit_treatment'] = first_treatment_col\n",
    "weather_df_7['second_water_deficit_treatment'] = second_treatment_col\n",
    "\n",
    "# print(weather_df_7.shape)\n",
    "# weather_df_7.head(3)"
   ]
  },
  {
   "cell_type": "code",
   "execution_count": null,
   "metadata": {},
   "outputs": [],
   "source": [
    "weather_df_8 = weather_df_7.rename({'vpd_mean': 'vpd_mean_kpa'}, axis=1)\n",
    "weather_df_8.head(3)"
   ]
  },
  {
   "cell_type": "code",
   "execution_count": null,
   "metadata": {},
   "outputs": [],
   "source": [
    "weather_df_8.to_csv('data/weather/mac_season_4_weather.csv')"
   ]
  }
 ],
 "metadata": {
  "kernelspec": {
   "display_name": "jupyter-data-cleaning",
   "language": "python",
   "name": "jupyter-data-cleaning"
  },
  "language_info": {
   "codemirror_mode": {
    "name": "ipython",
    "version": 3
   },
   "file_extension": ".py",
   "mimetype": "text/x-python",
   "name": "python",
   "nbconvert_exporter": "python",
   "pygments_lexer": "ipython3",
   "version": "3.8.2"
  }
 },
 "nbformat": 4,
 "nbformat_minor": 2
}
