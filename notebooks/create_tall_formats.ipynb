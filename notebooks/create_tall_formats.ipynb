{
 "cells": [
  {
   "cell_type": "markdown",
   "metadata": {},
   "source": [
    "## Add growing degree days to raw tall data from seasons with days to flowering and/or days to flag leaf emergence"
   ]
  },
  {
   "cell_type": "code",
   "execution_count": 1,
   "metadata": {},
   "outputs": [],
   "source": [
    "import datetime as datetime\n",
    "import numpy as np\n",
    "import pandas as pd"
   ]
  },
  {
   "cell_type": "markdown",
   "metadata": {},
   "source": [
    "### Functions"
   ]
  },
  {
   "cell_type": "code",
   "execution_count": 3,
   "metadata": {},
   "outputs": [],
   "source": [
    "def save_to_csv_without_timestamp(list_of_dfs, list_of_output_filenames):\n",
    "\n",
    "    for i,j in zip(list_of_dfs, list_of_output_filenames):\n",
    "        i.to_csv(j, index=False)"
   ]
  },
  {
   "cell_type": "markdown",
   "metadata": {},
   "source": [
    "### MAC Season 4"
   ]
  },
  {
   "cell_type": "code",
   "execution_count": 4,
   "metadata": {},
   "outputs": [
    {
     "name": "stdout",
     "output_type": "stream",
     "text": [
      "(375150, 39)\n"
     ]
    }
   ],
   "source": [
    "s4_0 = pd.read_csv('data/raw/mac_season_four_2020-04-22.csv', low_memory=False)\n",
    "print(s4_0.shape)\n",
    "# s4_0.head()"
   ]
  },
  {
   "cell_type": "markdown",
   "metadata": {},
   "source": [
    "### Season 4 Days to Flowering"
   ]
  },
  {
   "cell_type": "code",
   "execution_count": 5,
   "metadata": {},
   "outputs": [
    {
     "name": "stdout",
     "output_type": "stream",
     "text": [
      "(156, 12)\n"
     ]
    }
   ],
   "source": [
    "fl_0 = pd.read_csv('data/processed/mac_season_4_days_gdd_to_flowering.csv')\n",
    "print(fl_0.shape)\n",
    "# fl_0.head()"
   ]
  },
  {
   "cell_type": "code",
   "execution_count": 6,
   "metadata": {},
   "outputs": [],
   "source": [
    "# s4_0.columns"
   ]
  },
  {
   "cell_type": "code",
   "execution_count": 7,
   "metadata": {},
   "outputs": [],
   "source": [
    "s4_sites = s4_0[['site_id', 'sitename', 'lat', 'lon', 'cultivar', 'cultivar_id', 'treatment', 'treatment_id']]\n",
    "# s4_sites.head()"
   ]
  },
  {
   "cell_type": "markdown",
   "metadata": {},
   "source": [
    "Get information from original raw data that was not included in the `days_to_flowering` dataset"
   ]
  },
  {
   "cell_type": "code",
   "execution_count": 8,
   "metadata": {},
   "outputs": [
    {
     "name": "stdout",
     "output_type": "stream",
     "text": [
      "(2218, 8)\n"
     ]
    }
   ],
   "source": [
    "s4_sites_unique = s4_sites.drop_duplicates(ignore_index=True)\n",
    "print(s4_sites_unique.shape)\n",
    "# s4_sites_unique.head()"
   ]
  },
  {
   "cell_type": "code",
   "execution_count": 9,
   "metadata": {},
   "outputs": [
    {
     "name": "stdout",
     "output_type": "stream",
     "text": [
      "(156, 20)\n"
     ]
    }
   ],
   "source": [
    "fl_sites = fl_0.merge(s4_sites_unique, left_on='plot', right_on='sitename', how='left')\n",
    "print(fl_sites.shape)\n",
    "# fl_sites.head()"
   ]
  },
  {
   "cell_type": "code",
   "execution_count": 10,
   "metadata": {},
   "outputs": [],
   "source": [
    "s4_1 = s4_0.drop(labels='Unnamed: 0', axis=1)\n",
    "# s4_1.head(2)"
   ]
  },
  {
   "cell_type": "code",
   "execution_count": 11,
   "metadata": {},
   "outputs": [],
   "source": [
    "data = {'checked': 0, 'result_type': 'traits', 'id': np.nan, 'citation_id': np.nan, 'site_id': fl_sites.site_id.values,\n",
    "        'treatment_id': fl_sites.treatment_id.values, 'sitename': fl_sites['plot'].values, 'city': 'Maricopa', \n",
    "        'lat': fl_sites.lat.values, 'lon': fl_sites.lon.values, 'scientificname': 'Sorghum bicolor', 'commonname': 'sorghum',\n",
    "        'genus': 'Sorghum', 'species_id': 2588, 'cultivar_id': fl_sites.cultivar_id.values, 'author': np.nan, 'citation_year': np.nan,\n",
    "        'treatment': fl_sites.treatment_x.values, 'date': np.nan, 'time': np.nan, 'raw_date': np.nan, 'month': np.nan,\n",
    "        'year': np.nan, 'dateloc': np.nan, 'trait': 'gdd_to_flowering', 'trait_description': 'accumulated growing degree days to flowering', \n",
    "        'mean': fl_sites.gdd_to_flowering.values, 'units': 'C', 'n': np.nan, 'statname': np.nan, 'stat': np.nan, 'notes': np.nan,\n",
    "        'access_level': np.nan, 'cultivar': fl_sites.cultivar.values, 'entity': np.nan, 'method_name': np.nan, 'view_url': np.nan,\n",
    "        'edit_url': np.nan}"
   ]
  },
  {
   "cell_type": "markdown",
   "metadata": {},
   "source": [
    "Do not need to specifiy `np.nan` values since `pd.concat()` will fill those as needed."
   ]
  },
  {
   "cell_type": "code",
   "execution_count": 12,
   "metadata": {},
   "outputs": [
    {
     "name": "stdout",
     "output_type": "stream",
     "text": [
      "(156, 38)\n"
     ]
    }
   ],
   "source": [
    "gdd_flowering_s4 = pd.DataFrame(data=data)\n",
    "print(gdd_flowering_s4.shape)\n",
    "# gdd_flowering_s4.tail(3)"
   ]
  },
  {
   "cell_type": "code",
   "execution_count": 13,
   "metadata": {},
   "outputs": [],
   "source": [
    "# gdd_flowering_s4.isnull().sum()"
   ]
  },
  {
   "cell_type": "markdown",
   "metadata": {},
   "source": [
    "Add `gdd_to_flowering` dataframe to raw season 4 data"
   ]
  },
  {
   "cell_type": "code",
   "execution_count": 14,
   "metadata": {},
   "outputs": [
    {
     "name": "stdout",
     "output_type": "stream",
     "text": [
      "(375306, 38)\n"
     ]
    },
    {
     "data": {
      "text/html": [
       "<div>\n",
       "<style scoped>\n",
       "    .dataframe tbody tr th:only-of-type {\n",
       "        vertical-align: middle;\n",
       "    }\n",
       "\n",
       "    .dataframe tbody tr th {\n",
       "        vertical-align: top;\n",
       "    }\n",
       "\n",
       "    .dataframe thead th {\n",
       "        text-align: right;\n",
       "    }\n",
       "</style>\n",
       "<table border=\"1\" class=\"dataframe\">\n",
       "  <thead>\n",
       "    <tr style=\"text-align: right;\">\n",
       "      <th></th>\n",
       "      <th>checked</th>\n",
       "      <th>result_type</th>\n",
       "      <th>id</th>\n",
       "      <th>citation_id</th>\n",
       "      <th>site_id</th>\n",
       "      <th>treatment_id</th>\n",
       "      <th>sitename</th>\n",
       "      <th>city</th>\n",
       "      <th>lat</th>\n",
       "      <th>lon</th>\n",
       "      <th>...</th>\n",
       "      <th>n</th>\n",
       "      <th>statname</th>\n",
       "      <th>stat</th>\n",
       "      <th>notes</th>\n",
       "      <th>access_level</th>\n",
       "      <th>cultivar</th>\n",
       "      <th>entity</th>\n",
       "      <th>method_name</th>\n",
       "      <th>view_url</th>\n",
       "      <th>edit_url</th>\n",
       "    </tr>\n",
       "  </thead>\n",
       "  <tbody>\n",
       "    <tr>\n",
       "      <th>375303</th>\n",
       "      <td>0</td>\n",
       "      <td>traits</td>\n",
       "      <td>NaN</td>\n",
       "      <td>NaN</td>\n",
       "      <td>6000006019</td>\n",
       "      <td>6000000024</td>\n",
       "      <td>MAC Field Scanner Season 4 Range 46 Column 5</td>\n",
       "      <td>Maricopa</td>\n",
       "      <td>33.076165</td>\n",
       "      <td>-111.974983</td>\n",
       "      <td>...</td>\n",
       "      <td>NaN</td>\n",
       "      <td>NaN</td>\n",
       "      <td>NaN</td>\n",
       "      <td>NaN</td>\n",
       "      <td>NaN</td>\n",
       "      <td>PI535796</td>\n",
       "      <td>NaN</td>\n",
       "      <td>NaN</td>\n",
       "      <td>NaN</td>\n",
       "      <td>NaN</td>\n",
       "    </tr>\n",
       "    <tr>\n",
       "      <th>375304</th>\n",
       "      <td>0</td>\n",
       "      <td>traits</td>\n",
       "      <td>NaN</td>\n",
       "      <td>NaN</td>\n",
       "      <td>6000006013</td>\n",
       "      <td>6000000024</td>\n",
       "      <td>MAC Field Scanner Season 4 Range 46 Column 7</td>\n",
       "      <td>Maricopa</td>\n",
       "      <td>33.076165</td>\n",
       "      <td>-111.974950</td>\n",
       "      <td>...</td>\n",
       "      <td>NaN</td>\n",
       "      <td>NaN</td>\n",
       "      <td>NaN</td>\n",
       "      <td>NaN</td>\n",
       "      <td>NaN</td>\n",
       "      <td>PI534120</td>\n",
       "      <td>NaN</td>\n",
       "      <td>NaN</td>\n",
       "      <td>NaN</td>\n",
       "      <td>NaN</td>\n",
       "    </tr>\n",
       "    <tr>\n",
       "      <th>375305</th>\n",
       "      <td>0</td>\n",
       "      <td>traits</td>\n",
       "      <td>NaN</td>\n",
       "      <td>NaN</td>\n",
       "      <td>6000006027</td>\n",
       "      <td>6000000024</td>\n",
       "      <td>MAC Field Scanner Season 4 Range 51 Column 7</td>\n",
       "      <td>Maricopa</td>\n",
       "      <td>33.076345</td>\n",
       "      <td>-111.974950</td>\n",
       "      <td>...</td>\n",
       "      <td>NaN</td>\n",
       "      <td>NaN</td>\n",
       "      <td>NaN</td>\n",
       "      <td>NaN</td>\n",
       "      <td>NaN</td>\n",
       "      <td>PI641830</td>\n",
       "      <td>NaN</td>\n",
       "      <td>NaN</td>\n",
       "      <td>NaN</td>\n",
       "      <td>NaN</td>\n",
       "    </tr>\n",
       "  </tbody>\n",
       "</table>\n",
       "<p>3 rows × 38 columns</p>\n",
       "</div>"
      ],
      "text/plain": [
       "        checked result_type  id  citation_id     site_id  treatment_id  \\\n",
       "375303        0      traits NaN          NaN  6000006019    6000000024   \n",
       "375304        0      traits NaN          NaN  6000006013    6000000024   \n",
       "375305        0      traits NaN          NaN  6000006027    6000000024   \n",
       "\n",
       "                                            sitename      city        lat  \\\n",
       "375303  MAC Field Scanner Season 4 Range 46 Column 5  Maricopa  33.076165   \n",
       "375304  MAC Field Scanner Season 4 Range 46 Column 7  Maricopa  33.076165   \n",
       "375305  MAC Field Scanner Season 4 Range 51 Column 7  Maricopa  33.076345   \n",
       "\n",
       "               lon  ...   n statname stat  notes  access_level  cultivar  \\\n",
       "375303 -111.974983  ... NaN      NaN  NaN    NaN           NaN  PI535796   \n",
       "375304 -111.974950  ... NaN      NaN  NaN    NaN           NaN  PI534120   \n",
       "375305 -111.974950  ... NaN      NaN  NaN    NaN           NaN  PI641830   \n",
       "\n",
       "        entity method_name view_url edit_url  \n",
       "375303     NaN         NaN      NaN      NaN  \n",
       "375304     NaN         NaN      NaN      NaN  \n",
       "375305     NaN         NaN      NaN      NaN  \n",
       "\n",
       "[3 rows x 38 columns]"
      ]
     },
     "execution_count": 14,
     "metadata": {},
     "output_type": "execute_result"
    }
   ],
   "source": [
    "tall_s4 = pd.concat([s4_1, gdd_flowering_s4], ignore_index=True)\n",
    "print(tall_s4.shape)\n",
    "tall_s4.tail(3)"
   ]
  },
  {
   "cell_type": "markdown",
   "metadata": {},
   "source": [
    "### Season 4 Days to Flag Leaf Emergence"
   ]
  },
  {
   "cell_type": "code",
   "execution_count": 15,
   "metadata": {},
   "outputs": [
    {
     "name": "stdout",
     "output_type": "stream",
     "text": [
      "(176, 12)\n"
     ]
    }
   ],
   "source": [
    "fle_0 = pd.read_csv('data/processed/mac_season_4_days_gdd_to_flag_leaf_emergence.csv')\n",
    "print(fle_0.shape)\n",
    "# fle_0.head()"
   ]
  },
  {
   "cell_type": "code",
   "execution_count": 16,
   "metadata": {},
   "outputs": [
    {
     "name": "stdout",
     "output_type": "stream",
     "text": [
      "(2218, 8)\n"
     ]
    }
   ],
   "source": [
    "print(s4_sites_unique.shape)\n",
    "# s4_sites.tail()"
   ]
  },
  {
   "cell_type": "code",
   "execution_count": 17,
   "metadata": {},
   "outputs": [
    {
     "name": "stdout",
     "output_type": "stream",
     "text": [
      "(176, 20)\n"
     ]
    }
   ],
   "source": [
    "fle_sites = fle_0.merge(s4_sites_unique, left_on='plot', right_on='sitename', how='left')\n",
    "print(fle_sites.shape)\n",
    "# fle_sites.head()"
   ]
  },
  {
   "cell_type": "code",
   "execution_count": 18,
   "metadata": {},
   "outputs": [],
   "source": [
    "# fle_sites.columns"
   ]
  },
  {
   "cell_type": "code",
   "execution_count": 19,
   "metadata": {},
   "outputs": [
    {
     "name": "stdout",
     "output_type": "stream",
     "text": [
      "(176, 9)\n"
     ]
    }
   ],
   "source": [
    "fle_sites_1 = fle_sites[['gdd_to_flag_leaf_emergence', 'site_id', 'sitename', 'lat', 'lon', 'cultivar', 'cultivar_id',\n",
    "                        'treatment_y', 'treatment_id']]\n",
    "print(fle_sites_1.shape)\n",
    "# fle_sites_1.head()"
   ]
  },
  {
   "cell_type": "code",
   "execution_count": 20,
   "metadata": {},
   "outputs": [],
   "source": [
    "fle_data = {'checked': 0, 'result_type': 'traits', 'id': np.nan, 'citation_id': np.nan, 'site_id': fle_sites_1.site_id.values,\n",
    "        'treatment_id': fle_sites_1.treatment_id.values, 'sitename': fle_sites_1.sitename.values, 'city': 'Maricopa', \n",
    "        'lat': fle_sites_1.lat.values, 'lon': fle_sites_1.lon.values, 'scientificname': 'Sorghum bicolor', 'commonname': 'sorghum',\n",
    "        'genus': 'Sorghum', 'species_id': 2588, 'cultivar_id': fle_sites_1.cultivar_id.values, 'author': np.nan, 'citation_year': np.nan,\n",
    "        'treatment': fle_sites_1.treatment_y.values, 'date': np.nan, 'time': np.nan, 'raw_date': np.nan, 'month': np.nan,\n",
    "        'year': np.nan, 'dateloc': np.nan, 'trait': 'gdd_to_flag_leaf_emergence', 'trait_description': 'accumulated growing degree days to flag leaf emergence', \n",
    "        'mean': fle_sites_1.gdd_to_flag_leaf_emergence.values, 'units': 'C', 'n': np.nan, 'statname': np.nan, 'stat': np.nan, 'notes': np.nan,\n",
    "        'access_level': np.nan, 'cultivar': fle_sites_1.cultivar.values, 'entity': np.nan, 'method_name': np.nan, 'view_url': np.nan,\n",
    "        'edit_url': np.nan}"
   ]
  },
  {
   "cell_type": "code",
   "execution_count": 21,
   "metadata": {},
   "outputs": [
    {
     "name": "stdout",
     "output_type": "stream",
     "text": [
      "(176, 38)\n"
     ]
    }
   ],
   "source": [
    "fle_s4 = pd.DataFrame(data=fle_data)\n",
    "print(fle_s4.shape)\n",
    "# fle_s4.head()"
   ]
  },
  {
   "cell_type": "code",
   "execution_count": 22,
   "metadata": {},
   "outputs": [
    {
     "name": "stdout",
     "output_type": "stream",
     "text": [
      "(375482, 38)\n"
     ]
    },
    {
     "data": {
      "text/html": [
       "<div>\n",
       "<style scoped>\n",
       "    .dataframe tbody tr th:only-of-type {\n",
       "        vertical-align: middle;\n",
       "    }\n",
       "\n",
       "    .dataframe tbody tr th {\n",
       "        vertical-align: top;\n",
       "    }\n",
       "\n",
       "    .dataframe thead th {\n",
       "        text-align: right;\n",
       "    }\n",
       "</style>\n",
       "<table border=\"1\" class=\"dataframe\">\n",
       "  <thead>\n",
       "    <tr style=\"text-align: right;\">\n",
       "      <th></th>\n",
       "      <th>checked</th>\n",
       "      <th>result_type</th>\n",
       "      <th>id</th>\n",
       "      <th>citation_id</th>\n",
       "      <th>site_id</th>\n",
       "      <th>treatment_id</th>\n",
       "      <th>sitename</th>\n",
       "      <th>city</th>\n",
       "      <th>lat</th>\n",
       "      <th>lon</th>\n",
       "      <th>...</th>\n",
       "      <th>n</th>\n",
       "      <th>statname</th>\n",
       "      <th>stat</th>\n",
       "      <th>notes</th>\n",
       "      <th>access_level</th>\n",
       "      <th>cultivar</th>\n",
       "      <th>entity</th>\n",
       "      <th>method_name</th>\n",
       "      <th>view_url</th>\n",
       "      <th>edit_url</th>\n",
       "    </tr>\n",
       "  </thead>\n",
       "  <tbody>\n",
       "    <tr>\n",
       "      <th>375479</th>\n",
       "      <td>0</td>\n",
       "      <td>traits</td>\n",
       "      <td>NaN</td>\n",
       "      <td>NaN</td>\n",
       "      <td>6000006019</td>\n",
       "      <td>6000000024</td>\n",
       "      <td>MAC Field Scanner Season 4 Range 46 Column 5</td>\n",
       "      <td>Maricopa</td>\n",
       "      <td>33.076165</td>\n",
       "      <td>-111.974983</td>\n",
       "      <td>...</td>\n",
       "      <td>NaN</td>\n",
       "      <td>NaN</td>\n",
       "      <td>NaN</td>\n",
       "      <td>NaN</td>\n",
       "      <td>NaN</td>\n",
       "      <td>PI535796</td>\n",
       "      <td>NaN</td>\n",
       "      <td>NaN</td>\n",
       "      <td>NaN</td>\n",
       "      <td>NaN</td>\n",
       "    </tr>\n",
       "    <tr>\n",
       "      <th>375480</th>\n",
       "      <td>0</td>\n",
       "      <td>traits</td>\n",
       "      <td>NaN</td>\n",
       "      <td>NaN</td>\n",
       "      <td>6000006013</td>\n",
       "      <td>6000000024</td>\n",
       "      <td>MAC Field Scanner Season 4 Range 46 Column 7</td>\n",
       "      <td>Maricopa</td>\n",
       "      <td>33.076165</td>\n",
       "      <td>-111.974950</td>\n",
       "      <td>...</td>\n",
       "      <td>NaN</td>\n",
       "      <td>NaN</td>\n",
       "      <td>NaN</td>\n",
       "      <td>NaN</td>\n",
       "      <td>NaN</td>\n",
       "      <td>PI534120</td>\n",
       "      <td>NaN</td>\n",
       "      <td>NaN</td>\n",
       "      <td>NaN</td>\n",
       "      <td>NaN</td>\n",
       "    </tr>\n",
       "    <tr>\n",
       "      <th>375481</th>\n",
       "      <td>0</td>\n",
       "      <td>traits</td>\n",
       "      <td>NaN</td>\n",
       "      <td>NaN</td>\n",
       "      <td>6000006027</td>\n",
       "      <td>6000000024</td>\n",
       "      <td>MAC Field Scanner Season 4 Range 51 Column 7</td>\n",
       "      <td>Maricopa</td>\n",
       "      <td>33.076345</td>\n",
       "      <td>-111.974950</td>\n",
       "      <td>...</td>\n",
       "      <td>NaN</td>\n",
       "      <td>NaN</td>\n",
       "      <td>NaN</td>\n",
       "      <td>NaN</td>\n",
       "      <td>NaN</td>\n",
       "      <td>PI641830</td>\n",
       "      <td>NaN</td>\n",
       "      <td>NaN</td>\n",
       "      <td>NaN</td>\n",
       "      <td>NaN</td>\n",
       "    </tr>\n",
       "  </tbody>\n",
       "</table>\n",
       "<p>3 rows × 38 columns</p>\n",
       "</div>"
      ],
      "text/plain": [
       "        checked result_type  id  citation_id     site_id  treatment_id  \\\n",
       "375479        0      traits NaN          NaN  6000006019    6000000024   \n",
       "375480        0      traits NaN          NaN  6000006013    6000000024   \n",
       "375481        0      traits NaN          NaN  6000006027    6000000024   \n",
       "\n",
       "                                            sitename      city        lat  \\\n",
       "375479  MAC Field Scanner Season 4 Range 46 Column 5  Maricopa  33.076165   \n",
       "375480  MAC Field Scanner Season 4 Range 46 Column 7  Maricopa  33.076165   \n",
       "375481  MAC Field Scanner Season 4 Range 51 Column 7  Maricopa  33.076345   \n",
       "\n",
       "               lon  ...   n statname stat  notes  access_level  cultivar  \\\n",
       "375479 -111.974983  ... NaN      NaN  NaN    NaN           NaN  PI535796   \n",
       "375480 -111.974950  ... NaN      NaN  NaN    NaN           NaN  PI534120   \n",
       "375481 -111.974950  ... NaN      NaN  NaN    NaN           NaN  PI641830   \n",
       "\n",
       "        entity method_name view_url edit_url  \n",
       "375479     NaN         NaN      NaN      NaN  \n",
       "375480     NaN         NaN      NaN      NaN  \n",
       "375481     NaN         NaN      NaN      NaN  \n",
       "\n",
       "[3 rows x 38 columns]"
      ]
     },
     "execution_count": 22,
     "metadata": {},
     "output_type": "execute_result"
    }
   ],
   "source": [
    "fl_fle_tall_s4 = pd.concat([tall_s4, fle_s4], ignore_index=True)\n",
    "print(fl_fle_tall_s4.shape)\n",
    "fl_fle_tall_s4.tail(3)"
   ]
  },
  {
   "cell_type": "markdown",
   "metadata": {},
   "source": [
    "### MAC Season 6\n",
    "Does not contain any added growing degree day traits"
   ]
  },
  {
   "cell_type": "markdown",
   "metadata": {},
   "source": [
    "### KSU"
   ]
  },
  {
   "cell_type": "code",
   "execution_count": 23,
   "metadata": {},
   "outputs": [
    {
     "name": "stdout",
     "output_type": "stream",
     "text": [
      "(29079, 39)\n"
     ]
    }
   ],
   "source": [
    "ksu = pd.read_csv('data/raw/ksu_data_2020-06-11.csv')\n",
    "print(ksu.shape)\n",
    "# ksu.head()"
   ]
  },
  {
   "cell_type": "code",
   "execution_count": 24,
   "metadata": {},
   "outputs": [],
   "source": [
    "ksu_1 = ksu.drop(labels='Unnamed: 0', axis=1)"
   ]
  },
  {
   "cell_type": "code",
   "execution_count": 25,
   "metadata": {},
   "outputs": [
    {
     "name": "stdout",
     "output_type": "stream",
     "text": [
      "(164, 10)\n"
     ]
    }
   ],
   "source": [
    "ksu_fl_0 = pd.read_csv('data/processed/ksu_flowering_2020-06-15T164738.csv')\n",
    "print(ksu_fl_0.shape)\n",
    "# ksu_fl_0.head()"
   ]
  },
  {
   "cell_type": "code",
   "execution_count": 26,
   "metadata": {},
   "outputs": [
    {
     "name": "stdout",
     "output_type": "stream",
     "text": [
      "(29079, 4)\n"
     ]
    }
   ],
   "source": [
    "ksu_sites = ksu_1[['site_id', 'sitename', 'cultivar', 'cultivar_id']]\n",
    "print(ksu_sites.shape)\n",
    "# ksu_sites.head(3)"
   ]
  },
  {
   "cell_type": "code",
   "execution_count": 27,
   "metadata": {},
   "outputs": [
    {
     "name": "stdout",
     "output_type": "stream",
     "text": [
      "(919, 4)\n"
     ]
    }
   ],
   "source": [
    "ksu_sites_unique = ksu_sites.drop_duplicates()\n",
    "print(ksu_sites_unique.shape)\n",
    "# ksu_sites_unique.tail(3)"
   ]
  },
  {
   "cell_type": "code",
   "execution_count": 28,
   "metadata": {},
   "outputs": [
    {
     "name": "stdout",
     "output_type": "stream",
     "text": [
      "(164, 12)\n"
     ]
    }
   ],
   "source": [
    "ksu_fl_sites = ksu_fl_0.merge(ksu_sites_unique, how='left', left_on=['sitename', 'cultivar'],\n",
    "                              right_on=['sitename', 'cultivar'])\n",
    "print(ksu_fl_sites.shape)\n",
    "# ksu_fl_sites.head(3)"
   ]
  },
  {
   "cell_type": "code",
   "execution_count": 29,
   "metadata": {},
   "outputs": [],
   "source": [
    "ksu_fl_data = {'checked': 0, 'result_type': 'traits', 'site_id': ksu_fl_sites.site_id.values, 'sitename': ksu_fl_sites.sitename.values,\n",
    "              'city': 'Ashland', 'lat': ksu_fl_sites.lat.values, 'lon': ksu_fl_sites.lon.values, 'scientificname': 'Sorghum bicolor',\n",
    "              'commonname': 'sorghum', 'genus': 'Sorghum', 'species_id': 2588, 'cultivar_id': ksu_fl_sites.cultivar_id.values,\n",
    "              'trait': 'gdd_to_flowering', 'trait_description': 'accumulated growing degree days to flowering', 'mean': ksu_fl_sites.gdd.values,\n",
    "              'units': 'C', 'cultivar': ksu_fl_sites.cultivar.values}"
   ]
  },
  {
   "cell_type": "code",
   "execution_count": 30,
   "metadata": {},
   "outputs": [
    {
     "name": "stdout",
     "output_type": "stream",
     "text": [
      "(164, 17)\n"
     ]
    }
   ],
   "source": [
    "ksu_fl_df = pd.DataFrame(data=ksu_fl_data)\n",
    "print(ksu_fl_df.shape)\n",
    "# ksu_fl_df.head(3)"
   ]
  },
  {
   "cell_type": "code",
   "execution_count": 31,
   "metadata": {},
   "outputs": [
    {
     "name": "stdout",
     "output_type": "stream",
     "text": [
      "(29243, 38)\n"
     ]
    },
    {
     "data": {
      "text/html": [
       "<div>\n",
       "<style scoped>\n",
       "    .dataframe tbody tr th:only-of-type {\n",
       "        vertical-align: middle;\n",
       "    }\n",
       "\n",
       "    .dataframe tbody tr th {\n",
       "        vertical-align: top;\n",
       "    }\n",
       "\n",
       "    .dataframe thead th {\n",
       "        text-align: right;\n",
       "    }\n",
       "</style>\n",
       "<table border=\"1\" class=\"dataframe\">\n",
       "  <thead>\n",
       "    <tr style=\"text-align: right;\">\n",
       "      <th></th>\n",
       "      <th>checked</th>\n",
       "      <th>result_type</th>\n",
       "      <th>id</th>\n",
       "      <th>citation_id</th>\n",
       "      <th>site_id</th>\n",
       "      <th>treatment_id</th>\n",
       "      <th>sitename</th>\n",
       "      <th>city</th>\n",
       "      <th>lat</th>\n",
       "      <th>lon</th>\n",
       "      <th>...</th>\n",
       "      <th>n</th>\n",
       "      <th>statname</th>\n",
       "      <th>stat</th>\n",
       "      <th>notes</th>\n",
       "      <th>access_level</th>\n",
       "      <th>cultivar</th>\n",
       "      <th>entity</th>\n",
       "      <th>method_name</th>\n",
       "      <th>view_url</th>\n",
       "      <th>edit_url</th>\n",
       "    </tr>\n",
       "  </thead>\n",
       "  <tbody>\n",
       "    <tr>\n",
       "      <th>29240</th>\n",
       "      <td>0</td>\n",
       "      <td>traits</td>\n",
       "      <td>NaN</td>\n",
       "      <td>NaN</td>\n",
       "      <td>6000009084</td>\n",
       "      <td>NaN</td>\n",
       "      <td>Ashland Bottoms KSU 2016 Season Range 35 Pass 7</td>\n",
       "      <td>Ashland</td>\n",
       "      <td>39.140104</td>\n",
       "      <td>-96.631815</td>\n",
       "      <td>...</td>\n",
       "      <td>NaN</td>\n",
       "      <td>NaN</td>\n",
       "      <td>NaN</td>\n",
       "      <td>NaN</td>\n",
       "      <td>NaN</td>\n",
       "      <td>PI329403</td>\n",
       "      <td>NaN</td>\n",
       "      <td>NaN</td>\n",
       "      <td>NaN</td>\n",
       "      <td>NaN</td>\n",
       "    </tr>\n",
       "    <tr>\n",
       "      <th>29241</th>\n",
       "      <td>0</td>\n",
       "      <td>traits</td>\n",
       "      <td>NaN</td>\n",
       "      <td>NaN</td>\n",
       "      <td>6000004390</td>\n",
       "      <td>NaN</td>\n",
       "      <td>Ashland Bottoms KSU 2016 Season Range 22 Pass 12</td>\n",
       "      <td>Ashland</td>\n",
       "      <td>39.139639</td>\n",
       "      <td>-96.631632</td>\n",
       "      <td>...</td>\n",
       "      <td>NaN</td>\n",
       "      <td>NaN</td>\n",
       "      <td>NaN</td>\n",
       "      <td>NaN</td>\n",
       "      <td>NaN</td>\n",
       "      <td>PI329256</td>\n",
       "      <td>NaN</td>\n",
       "      <td>NaN</td>\n",
       "      <td>NaN</td>\n",
       "      <td>NaN</td>\n",
       "    </tr>\n",
       "    <tr>\n",
       "      <th>29242</th>\n",
       "      <td>0</td>\n",
       "      <td>traits</td>\n",
       "      <td>NaN</td>\n",
       "      <td>NaN</td>\n",
       "      <td>6000009164</td>\n",
       "      <td>NaN</td>\n",
       "      <td>Ashland Bottoms KSU 2016 Season Range 32 Pass 9</td>\n",
       "      <td>Ashland</td>\n",
       "      <td>39.139996</td>\n",
       "      <td>-96.631742</td>\n",
       "      <td>...</td>\n",
       "      <td>NaN</td>\n",
       "      <td>NaN</td>\n",
       "      <td>NaN</td>\n",
       "      <td>NaN</td>\n",
       "      <td>NaN</td>\n",
       "      <td>PI329665</td>\n",
       "      <td>NaN</td>\n",
       "      <td>NaN</td>\n",
       "      <td>NaN</td>\n",
       "      <td>NaN</td>\n",
       "    </tr>\n",
       "  </tbody>\n",
       "</table>\n",
       "<p>3 rows × 38 columns</p>\n",
       "</div>"
      ],
      "text/plain": [
       "       checked result_type  id  citation_id     site_id  treatment_id  \\\n",
       "29240        0      traits NaN          NaN  6000009084           NaN   \n",
       "29241        0      traits NaN          NaN  6000004390           NaN   \n",
       "29242        0      traits NaN          NaN  6000009164           NaN   \n",
       "\n",
       "                                               sitename     city        lat  \\\n",
       "29240   Ashland Bottoms KSU 2016 Season Range 35 Pass 7  Ashland  39.140104   \n",
       "29241  Ashland Bottoms KSU 2016 Season Range 22 Pass 12  Ashland  39.139639   \n",
       "29242   Ashland Bottoms KSU 2016 Season Range 32 Pass 9  Ashland  39.139996   \n",
       "\n",
       "             lon  ...   n statname stat  notes  access_level  cultivar  \\\n",
       "29240 -96.631815  ... NaN      NaN  NaN    NaN           NaN  PI329403   \n",
       "29241 -96.631632  ... NaN      NaN  NaN    NaN           NaN  PI329256   \n",
       "29242 -96.631742  ... NaN      NaN  NaN    NaN           NaN  PI329665   \n",
       "\n",
       "       entity method_name view_url edit_url  \n",
       "29240     NaN         NaN      NaN      NaN  \n",
       "29241     NaN         NaN      NaN      NaN  \n",
       "29242     NaN         NaN      NaN      NaN  \n",
       "\n",
       "[3 rows x 38 columns]"
      ]
     },
     "execution_count": 31,
     "metadata": {},
     "output_type": "execute_result"
    }
   ],
   "source": [
    "tall_ksu_df = pd.concat([ksu_1, ksu_fl_df], ignore_index=True)\n",
    "print(tall_ksu_df.shape)\n",
    "tall_ksu_df.tail(3)"
   ]
  },
  {
   "cell_type": "code",
   "execution_count": null,
   "metadata": {},
   "outputs": [],
   "source": []
  },
  {
   "cell_type": "code",
   "execution_count": null,
   "metadata": {},
   "outputs": [],
   "source": []
  },
  {
   "cell_type": "markdown",
   "metadata": {},
   "source": [
    "### Clemson"
   ]
  },
  {
   "cell_type": "markdown",
   "metadata": {},
   "source": [
    "### Convert dataframes to `.csv` files"
   ]
  },
  {
   "cell_type": "code",
   "execution_count": 32,
   "metadata": {},
   "outputs": [],
   "source": [
    "list_of_dfs = [fl_fle_tall_s4, tall_ksu_df]\n",
    "list_of_df_filepaths = ['data/interim/tall_season_four.csv', 'data/interim/tall_ksu_data.csv']\n",
    "\n",
    "save_to_csv_without_timestamp(list_of_dfs, list_of_df_filepaths)"
   ]
  },
  {
   "cell_type": "code",
   "execution_count": null,
   "metadata": {},
   "outputs": [],
   "source": []
  }
 ],
 "metadata": {
  "kernelspec": {
   "display_name": "jupyter-data-cleaning",
   "language": "python",
   "name": "jupyter-data-cleaning"
  },
  "language_info": {
   "codemirror_mode": {
    "name": "ipython",
    "version": 3
   },
   "file_extension": ".py",
   "mimetype": "text/x-python",
   "name": "python",
   "nbconvert_exporter": "python",
   "pygments_lexer": "ipython3",
   "version": "3.8.2"
  }
 },
 "nbformat": 4,
 "nbformat_minor": 2
}
