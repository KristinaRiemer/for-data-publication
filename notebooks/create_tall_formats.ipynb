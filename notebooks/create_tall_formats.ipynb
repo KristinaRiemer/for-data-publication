{
 "cells": [
  {
   "cell_type": "markdown",
   "metadata": {},
   "source": [
    "## Add growing degree days to raw tall data from seasons with days to flowering and/or days to flag leaf emergence"
   ]
  },
  {
   "cell_type": "code",
   "execution_count": null,
   "metadata": {},
   "outputs": [],
   "source": [
    "import datetime as datetime\n",
    "import numpy as np\n",
    "import pandas as pd"
   ]
  },
  {
   "cell_type": "markdown",
   "metadata": {},
   "source": [
    "### Functions"
   ]
  },
  {
   "cell_type": "code",
   "execution_count": null,
   "metadata": {},
   "outputs": [],
   "source": [
    "def save_to_csv_without_timestamp(list_of_dfs, list_of_output_filenames):\n",
    "\n",
    "    for i,j in zip(list_of_dfs, list_of_output_filenames):\n",
    "        i.to_csv(j, index=False)"
   ]
  },
  {
   "cell_type": "markdown",
   "metadata": {},
   "source": [
    "### MAC Season 4"
   ]
  },
  {
   "cell_type": "code",
   "execution_count": null,
   "metadata": {},
   "outputs": [],
   "source": [
    "s4_0 = pd.read_csv('data/raw/mac_season_four_2020-04-22.csv', low_memory=False)\n",
    "print(s4_0.shape)\n",
    "# s4_0.head()"
   ]
  },
  {
   "cell_type": "markdown",
   "metadata": {},
   "source": [
    "### Season 4 Days to Flowering"
   ]
  },
  {
   "cell_type": "code",
   "execution_count": null,
   "metadata": {},
   "outputs": [],
   "source": [
    "fl_0 = pd.read_csv('data/processed/mac_season_4_days_gdd_to_flowering.csv')\n",
    "print(fl_0.shape)\n",
    "# fl_0.head()"
   ]
  },
  {
   "cell_type": "code",
   "execution_count": null,
   "metadata": {},
   "outputs": [],
   "source": [
    "# s4_0.columns"
   ]
  },
  {
   "cell_type": "code",
   "execution_count": null,
   "metadata": {},
   "outputs": [],
   "source": [
    "s4_sites = s4_0[['site_id', 'sitename', 'lat', 'lon', 'cultivar', 'cultivar_id', 'treatment', 'treatment_id']]\n",
    "# s4_sites.head()"
   ]
  },
  {
   "cell_type": "markdown",
   "metadata": {},
   "source": [
    "Get information from original raw data that was not included in the `days_to_flowering` dataset"
   ]
  },
  {
   "cell_type": "code",
   "execution_count": null,
   "metadata": {},
   "outputs": [],
   "source": [
    "s4_sites_unique = s4_sites.drop_duplicates(ignore_index=True)\n",
    "print(s4_sites_unique.shape)\n",
    "# s4_sites_unique.head()"
   ]
  },
  {
   "cell_type": "code",
   "execution_count": null,
   "metadata": {},
   "outputs": [],
   "source": [
    "fl_sites = fl_0.merge(s4_sites_unique, left_on='plot', right_on='sitename', how='left')\n",
    "print(fl_sites.shape)\n",
    "# fl_sites.head()"
   ]
  },
  {
   "cell_type": "code",
   "execution_count": null,
   "metadata": {},
   "outputs": [],
   "source": [
    "s4_1 = s4_0.drop(labels='Unnamed: 0', axis=1)\n",
    "# s4_1.head(2)"
   ]
  },
  {
   "cell_type": "code",
   "execution_count": null,
   "metadata": {},
   "outputs": [],
   "source": [
    "data = {'checked': 0, 'result_type': 'traits', 'id': np.nan, 'citation_id': np.nan, 'site_id': fl_sites.site_id.values,\n",
    "        'treatment_id': fl_sites.treatment_id.values, 'sitename': fl_sites['plot'].values, 'city': 'Maricopa', \n",
    "        'lat': fl_sites.lat.values, 'lon': fl_sites.lon.values, 'scientificname': 'Sorghum bicolor', 'commonname': 'sorghum',\n",
    "        'genus': 'Sorghum', 'species_id': 2588, 'cultivar_id': fl_sites.cultivar_id.values, 'author': np.nan, 'citation_year': np.nan,\n",
    "        'treatment': fl_sites.treatment_x.values, 'date': np.nan, 'time': np.nan, 'raw_date': np.nan, 'month': np.nan,\n",
    "        'year': np.nan, 'dateloc': np.nan, 'trait': 'gdd_to_flowering', 'trait_description': 'accumulated growing degree days to flowering', \n",
    "        'mean': fl_sites.gdd_to_flowering.values, 'units': 'C', 'n': np.nan, 'statname': np.nan, 'stat': np.nan, 'notes': np.nan,\n",
    "        'access_level': np.nan, 'cultivar': fl_sites.cultivar.values, 'entity': np.nan, 'method_name': np.nan, 'view_url': np.nan,\n",
    "        'edit_url': np.nan}"
   ]
  },
  {
   "cell_type": "markdown",
   "metadata": {},
   "source": [
    "Do not need to specifiy `np.nan` values since `pd.concat()` will fill those as needed."
   ]
  },
  {
   "cell_type": "code",
   "execution_count": null,
   "metadata": {},
   "outputs": [],
   "source": [
    "gdd_flowering_s4 = pd.DataFrame(data=data)\n",
    "print(gdd_flowering_s4.shape)\n",
    "# gdd_flowering_s4.tail(3)"
   ]
  },
  {
   "cell_type": "code",
   "execution_count": null,
   "metadata": {},
   "outputs": [],
   "source": [
    "# gdd_flowering_s4.isnull().sum()"
   ]
  },
  {
   "cell_type": "markdown",
   "metadata": {},
   "source": [
    "Add `gdd_to_flowering` dataframe to raw season 4 data"
   ]
  },
  {
   "cell_type": "code",
   "execution_count": null,
   "metadata": {},
   "outputs": [],
   "source": [
    "tall_s4 = pd.concat([s4_1, gdd_flowering_s4], ignore_index=True)\n",
    "print(tall_s4.shape)\n",
    "tall_s4.tail(3)"
   ]
  },
  {
   "cell_type": "markdown",
   "metadata": {},
   "source": [
    "### Season 4 Days to Flag Leaf Emergence"
   ]
  },
  {
   "cell_type": "code",
   "execution_count": null,
   "metadata": {},
   "outputs": [],
   "source": [
    "fle_0 = pd.read_csv('data/processed/mac_season_4_days_gdd_to_flag_leaf_emergence.csv')\n",
    "print(fle_0.shape)\n",
    "# fle_0.head()"
   ]
  },
  {
   "cell_type": "code",
   "execution_count": null,
   "metadata": {},
   "outputs": [],
   "source": [
    "print(s4_sites_unique.shape)\n",
    "# s4_sites.tail()"
   ]
  },
  {
   "cell_type": "code",
   "execution_count": null,
   "metadata": {},
   "outputs": [],
   "source": [
    "fle_sites = fle_0.merge(s4_sites_unique, left_on='plot', right_on='sitename', how='left')\n",
    "print(fle_sites.shape)\n",
    "# fle_sites.head()"
   ]
  },
  {
   "cell_type": "code",
   "execution_count": null,
   "metadata": {},
   "outputs": [],
   "source": [
    "# fle_sites.columns"
   ]
  },
  {
   "cell_type": "code",
   "execution_count": null,
   "metadata": {},
   "outputs": [],
   "source": [
    "fle_sites_1 = fle_sites[['gdd_to_flag_leaf_emergence', 'site_id', 'sitename', 'lat', 'lon', 'cultivar', 'cultivar_id',\n",
    "                        'treatment_y', 'treatment_id']]\n",
    "print(fle_sites_1.shape)\n",
    "# fle_sites_1.head()"
   ]
  },
  {
   "cell_type": "code",
   "execution_count": null,
   "metadata": {},
   "outputs": [],
   "source": [
    "fle_data = {'checked': 0, 'result_type': 'traits', 'id': np.nan, 'citation_id': np.nan, 'site_id': fle_sites_1.site_id.values,\n",
    "        'treatment_id': fle_sites_1.treatment_id.values, 'sitename': fle_sites_1.sitename.values, 'city': 'Maricopa', \n",
    "        'lat': fle_sites_1.lat.values, 'lon': fle_sites_1.lon.values, 'scientificname': 'Sorghum bicolor', 'commonname': 'sorghum',\n",
    "        'genus': 'Sorghum', 'species_id': 2588, 'cultivar_id': fle_sites_1.cultivar_id.values, 'author': np.nan, 'citation_year': np.nan,\n",
    "        'treatment': fle_sites_1.treatment_y.values, 'date': np.nan, 'time': np.nan, 'raw_date': np.nan, 'month': np.nan,\n",
    "        'year': np.nan, 'dateloc': np.nan, 'trait': 'gdd_to_flag_leaf_emergence', 'trait_description': 'accumulated growing degree days to flag leaf emergence', \n",
    "        'mean': fle_sites_1.gdd_to_flag_leaf_emergence.values, 'units': 'C', 'n': np.nan, 'statname': np.nan, 'stat': np.nan, 'notes': np.nan,\n",
    "        'access_level': np.nan, 'cultivar': fle_sites_1.cultivar.values, 'entity': np.nan, 'method_name': np.nan, 'view_url': np.nan,\n",
    "        'edit_url': np.nan}"
   ]
  },
  {
   "cell_type": "code",
   "execution_count": null,
   "metadata": {},
   "outputs": [],
   "source": [
    "fle_s4 = pd.DataFrame(data=fle_data)\n",
    "print(fle_s4.shape)\n",
    "# fle_s4.head()"
   ]
  },
  {
   "cell_type": "code",
   "execution_count": null,
   "metadata": {},
   "outputs": [],
   "source": [
    "fl_fle_tall_s4 = pd.concat([tall_s4, fle_s4], ignore_index=True)\n",
    "print(fl_fle_tall_s4.shape)\n",
    "fl_fle_tall_s4.tail(3)"
   ]
  },
  {
   "cell_type": "markdown",
   "metadata": {},
   "source": [
    "### MAC Season 6\n",
    "Does not contain any added growing degree day traits"
   ]
  },
  {
   "cell_type": "markdown",
   "metadata": {},
   "source": [
    "### KSU"
   ]
  },
  {
   "cell_type": "code",
   "execution_count": null,
   "metadata": {},
   "outputs": [],
   "source": [
    "ksu = pd.read_csv('data/raw/ksu_data_2020-06-11.csv')\n",
    "print(ksu.shape)\n",
    "# ksu.head()"
   ]
  },
  {
   "cell_type": "code",
   "execution_count": null,
   "metadata": {},
   "outputs": [],
   "source": [
    "ksu_1 = ksu.drop(labels='Unnamed: 0', axis=1)"
   ]
  },
  {
   "cell_type": "code",
   "execution_count": null,
   "metadata": {},
   "outputs": [],
   "source": [
    "ksu_fl_0 = pd.read_csv('data/processed/ksu_flowering_2020-06-15T164738.csv')\n",
    "print(ksu_fl_0.shape)\n",
    "# ksu_fl_0.head()"
   ]
  },
  {
   "cell_type": "code",
   "execution_count": null,
   "metadata": {},
   "outputs": [],
   "source": [
    "ksu_sites = ksu_1[['site_id', 'sitename', 'cultivar', 'cultivar_id']]\n",
    "print(ksu_sites.shape)\n",
    "# ksu_sites.head(3)"
   ]
  },
  {
   "cell_type": "code",
   "execution_count": null,
   "metadata": {},
   "outputs": [],
   "source": [
    "ksu_sites_unique = ksu_sites.drop_duplicates()\n",
    "print(ksu_sites_unique.shape)\n",
    "# ksu_sites_unique.tail(3)"
   ]
  },
  {
   "cell_type": "code",
   "execution_count": null,
   "metadata": {},
   "outputs": [],
   "source": [
    "ksu_fl_sites = ksu_fl_0.merge(ksu_sites_unique, how='left', left_on=['sitename', 'cultivar'],\n",
    "                              right_on=['sitename', 'cultivar'])\n",
    "print(ksu_fl_sites.shape)\n",
    "# ksu_fl_sites.head(3)"
   ]
  },
  {
   "cell_type": "code",
   "execution_count": null,
   "metadata": {},
   "outputs": [],
   "source": [
    "# ksu_1.columns"
   ]
  },
  {
   "cell_type": "code",
   "execution_count": null,
   "metadata": {},
   "outputs": [],
   "source": [
    "ksu_fl_data = {'checked': 0, 'result_type': 'traits', 'site_id': ksu_fl_sites.site_id.values, 'treatment_id': 6000000022, \n",
    "               'sitename': ksu_fl_sites.sitename.values, 'city': 'Ashland', 'lat': ksu_fl_sites.lat.values, 'lon': ksu_fl_sites.lon.values,\n",
    "               'scientificname': 'Sorghum bicolor', 'commonname': 'sorghum', 'genus': 'Sorghum', 'species_id': 2588, \n",
    "               'cultivar_id': ksu_fl_sites.cultivar_id.values, 'treatment': 'KSU 2016 Observational', 'trait': 'gdd_to_flowering',\n",
    "               'trait_description': 'accumulated growing degree days to flowering', 'mean': ksu_fl_sites.gdd.values, \n",
    "               'units': 'C', 'cultivar': ksu_fl_sites.cultivar.values}"
   ]
  },
  {
   "cell_type": "code",
   "execution_count": null,
   "metadata": {},
   "outputs": [],
   "source": [
    "ksu_fl_df = pd.DataFrame(data=ksu_fl_data)\n",
    "print(ksu_fl_df.shape)\n",
    "# ksu_fl_df.head(3)"
   ]
  },
  {
   "cell_type": "code",
   "execution_count": null,
   "metadata": {},
   "outputs": [],
   "source": [
    "tall_ksu_df = pd.concat([ksu_1, ksu_fl_df], ignore_index=True)\n",
    "print(tall_ksu_df.shape)\n",
    "tall_ksu_df.tail(3)"
   ]
  },
  {
   "cell_type": "markdown",
   "metadata": {},
   "source": [
    "### Clemson"
   ]
  },
  {
   "cell_type": "code",
   "execution_count": null,
   "metadata": {},
   "outputs": [],
   "source": [
    "clemson = pd.read_csv('data/raw/clemson_data_2020-06-01.csv')\n",
    "print(clemson.shape)\n",
    "# clemson.head(3)"
   ]
  },
  {
   "cell_type": "code",
   "execution_count": null,
   "metadata": {},
   "outputs": [],
   "source": [
    "clemson_1 = clemson.drop(labels='Unnamed: 0', axis=1)"
   ]
  },
  {
   "cell_type": "code",
   "execution_count": null,
   "metadata": {},
   "outputs": [],
   "source": [
    "clem_fl_0 = pd.read_csv('data/processed/clemson_days_to_flowering_2020-06-24T113715.csv')\n",
    "print(clem_fl_0.shape)\n",
    "# clem_fl_0.tail()"
   ]
  },
  {
   "cell_type": "code",
   "execution_count": null,
   "metadata": {},
   "outputs": [],
   "source": [
    "clem_sites = clemson_1[['site_id', 'sitename', 'cultivar', 'cultivar_id']]\n",
    "print(clem_sites.shape)\n",
    "# clem_sites.head(3)"
   ]
  },
  {
   "cell_type": "code",
   "execution_count": null,
   "metadata": {},
   "outputs": [],
   "source": [
    "clem_sites_unique = clem_sites.drop_duplicates(ignore_index=True)\n",
    "print(clem_sites_unique.shape)"
   ]
  },
  {
   "cell_type": "code",
   "execution_count": null,
   "metadata": {},
   "outputs": [],
   "source": [
    "clem_fl_sites = clem_fl_0.merge(clem_sites_unique, how='left', left_on=['sitename', 'cultivar'],\n",
    "                              right_on=['sitename', 'cultivar'])\n",
    "print(clem_fl_sites.shape)\n",
    "# clem_fl_sites.head(3)"
   ]
  },
  {
   "cell_type": "code",
   "execution_count": null,
   "metadata": {},
   "outputs": [],
   "source": [
    "# clemson_1.columns"
   ]
  },
  {
   "cell_type": "code",
   "execution_count": null,
   "metadata": {},
   "outputs": [],
   "source": [
    "clem_fl_data = {'checked': 0, 'result_type': 'trait', 'site_id': 6000025503, 'treatment_id': 6000000042, \n",
    "                'sitename': 'Clemson University Pee Dee Research and Education Center', 'city': 'Florence', 'lat': 34.289,\n",
    "                'lon': -79.737, 'scientificname': 'Sorghum bicolor', 'commonname': 'sorghum', 'genus': 'Sorghum',\n",
    "                'species_id': 2588, 'cultivar_id': clem_fl_sites.cultivar_id.values, 'treatment': '2014 Clemson BAP Phenotyping Trials',\n",
    "                'trait': 'gdd_to_flowering', 'trait_description': 'growing_degree_days_to_flowering', 'mean': clem_fl_sites.gdd_to_flowering.values,\n",
    "                'units': 'C', 'cultivar': clem_fl_sites.cultivar.values}\n"
   ]
  },
  {
   "cell_type": "code",
   "execution_count": null,
   "metadata": {},
   "outputs": [],
   "source": [
    "clem_fl_df = pd.DataFrame(data=clem_fl_data)\n",
    "print(clem_fl_df.shape)\n",
    "# clem_fl_df.head(3)"
   ]
  },
  {
   "cell_type": "code",
   "execution_count": null,
   "metadata": {},
   "outputs": [],
   "source": [
    "tall_clem = pd.concat([clemson_1, clem_fl_df], ignore_index=True)\n",
    "print(tall_clem.shape)\n",
    "tall_clem.tail(3)"
   ]
  },
  {
   "cell_type": "markdown",
   "metadata": {},
   "source": [
    "### Convert dataframes to `.csv` files"
   ]
  },
  {
   "cell_type": "code",
   "execution_count": null,
   "metadata": {},
   "outputs": [],
   "source": [
    "list_of_dfs = [fl_fle_tall_s4, tall_ksu_df, tall_clem]\n",
    "list_of_df_filepaths = ['data/interim/tall_season_four.csv', 'data/interim/tall_ksu_data.csv', 'data/iterim/tall_clemson_data.csv']\n",
    "\n",
    "save_to_csv_without_timestamp(list_of_dfs, list_of_df_filepaths)"
   ]
  },
  {
   "cell_type": "code",
   "execution_count": null,
   "metadata": {},
   "outputs": [],
   "source": []
  }
 ],
 "metadata": {
  "kernelspec": {
   "display_name": "jupyter-data-cleaning",
   "language": "python",
   "name": "jupyter-data-cleaning"
  },
  "language_info": {
   "codemirror_mode": {
    "name": "ipython",
    "version": 3
   },
   "file_extension": ".py",
   "mimetype": "text/x-python",
   "name": "python",
   "nbconvert_exporter": "python",
   "pygments_lexer": "ipython3",
   "version": "3.8.2"
  }
 },
 "nbformat": 4,
 "nbformat_minor": 2
}
